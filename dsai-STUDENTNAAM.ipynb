{
 "cells": [
  {
   "cell_type": "markdown",
   "metadata": {},
   "source": [
    "# Examen Data Science & AI\n",
    "\n",
    "- Student: **VUL HIER JE NAAM IN**\n",
    "- Studentennummer: **VUL HIER JE STUDENTENNUMMER IN**\n",
    "- Datum: **EXAMENDATUM**\n",
    "- Klasgroep: **VUL HIER JE KLASGROEP IN ZOALS IN DE EXAMENOPGAVE**\n"
   ]
  },
  {
   "cell_type": "markdown",
   "metadata": {},
   "source": [
    "## Instructies\n",
    "\n",
    "Bij een multiple-true-false vraag, geef je antwoorden als volgt (fictief voorbeeld):\n",
    "\n",
    "1. Waar\n",
    "2. Niet waar\n",
    "3. Niet waar\n",
    "4. Waar\n",
    "\n",
    "Ook bij vragen met verschillende deelvragen gebruik je een genummerde lijst (hieronder een fictief voorbeeld). Merk op dat je LaTeX-notatie mag gebruiken voor wiskundige uitrdukkingen.\n",
    "\n",
    "1. Een tweezijdige z-toets\n",
    "2. $\\overline{x} = 123.456$ (let op! getallen afronden tot 3 cijfers!)\n",
    "3. $g = 112.432$\n",
    "4. $p = 0.567$\n",
    "5. We kunnen de nulhypothese ... (enz.). Er is dus ... (enz.)\n",
    "\n",
    "**Verwijder vóór indienen a.u.b. alle niet gebruikte codeblokken, tekst tussen haakjes (Antwoord op vraag X) en deze instructies. Enkel jouw ingevulde antwoorden blijven over.**"
   ]
  },
  {
   "cell_type": "code",
   "execution_count": 1,
   "metadata": {},
   "outputs": [],
   "source": [
    "# Package imports for data science\n",
    "import numpy as np\n",
    "import pandas as pd\n",
    "import scipy.stats as stats\n",
    "import matplotlib.pyplot as plt\n",
    "import seaborn as sns\n",
    "from statsmodels.graphics.mosaicplot import mosaic"
   ]
  },
  {
   "cell_type": "markdown",
   "metadata": {},
   "source": [
    "## Vraag 1\n",
    "\n",
    "Dichtbij 0 omdat de punten heel hard verspreid zijn dus de waarde is dicht bij 0.   \n",
    "R moet negtaief zijn want klein verband is zichtbaar is is dalend dus R<0 "
   ]
  },
  {
   "cell_type": "markdown",
   "metadata": {},
   "source": [
    "## Vraag 2\n",
    "\n",
    "(a) Geen aselecte steekproef. Want je kiest altijd de eerste uit een gesorteerde rij  \n",
    "(b) Neen. Omdat (a) Wel goed willekeurig kiezen tussen jongen of meisje.\n",
    "(c) Systematische steekproeffout. De achterste hebben sws geen kans om gekozen te worden. Enkel de eerste 10 van elke rij hebben kans dat ze gekozen worden. "
   ]
  },
  {
   "cell_type": "markdown",
   "metadata": {},
   "source": [
    "**VUL ZELF Markdown- en codeblokken toe voor de volgende vragen! Zorg dat elke vraag beantwoord is! Verwijder ook deze Markdown-cel voordat je indient.**"
   ]
  },
  {
   "cell_type": "markdown",
   "metadata": {},
   "source": [
    "# Vraag 3"
   ]
  },
  {
   "cell_type": "code",
   "execution_count": 3,
   "metadata": {},
   "outputs": [
    {
     "name": "stdout",
     "output_type": "stream",
     "text": [
      "a. P(x<230) ~= 0.048\n",
      "b. P(x>220) ~= 0.994\n",
      "a. P(245<x<230) ~= 0.643\n",
      "Ondergrens: 241.906\n",
      "Bovengrens: 258.094\n"
     ]
    }
   ],
   "source": [
    "# Uit een normaal verdeelde populatie met gemiddelde 250 en standaardafwijking 12 \n",
    "# wordt een aselecte steekproef genomen.\n",
    "m = 250\n",
    "s = 12\n",
    "\n",
    "# (a) Wat is de kans dat een waarneming kleiner is dan 230?\n",
    "print(\"a. P(x<230) ~= %.3f\"% stats.norm.cdf(230, loc=m, scale=s))\n",
    "\n",
    "# (b) Wat is de kans dat een waarneming groter is dan 220?\n",
    "print(\"b. P(x>220) ~= %.3f\"% stats.norm.sf(220, loc=m, scale=s))\n",
    "\n",
    "# (c) Wat is de kans dat een waarneming tussen 245 en 275 ligt?\n",
    "print(\"c. P(245<x<230) ~= %.3f\"% (stats.norm.cdf(275, loc=m, scale=s)-stats.norm.cdf(245, loc=m, scale=s)))\n",
    "\n",
    "# (d) Tussen welk interval, symmetrisch rond het gemiddelde, \n",
    "# zal je 50% van de waarnemingen vinden?\n",
    "print(\"Ondergrens: %.3f\"%stats.norm.isf(1-0.25, loc=m, scale=s))\n",
    "print(\"Bovengrens: %.3f\"%stats.norm.isf(0.25, loc=m, scale=s))\n"
   ]
  },
  {
   "cell_type": "markdown",
   "metadata": {},
   "source": [
    "a. P(x<230) ~= 0.048  \n",
    "b. P(x>220) ~= 0.994  \n",
    "c. P(245<x<230) ~= 0.643  \n",
    "d. [241.906, 258.094]\n",
    "- Ondergrens: 241.906\n",
    "- Bovengrens: 258.094"
   ]
  },
  {
   "cell_type": "markdown",
   "metadata": {},
   "source": [
    "# Vraag 4"
   ]
  },
  {
   "cell_type": "code",
   "execution_count": 4,
   "metadata": {},
   "outputs": [
    {
     "data": {
      "text/html": [
       "<div>\n",
       "<style scoped>\n",
       "    .dataframe tbody tr th:only-of-type {\n",
       "        vertical-align: middle;\n",
       "    }\n",
       "\n",
       "    .dataframe tbody tr th {\n",
       "        vertical-align: top;\n",
       "    }\n",
       "\n",
       "    .dataframe thead th {\n",
       "        text-align: right;\n",
       "    }\n",
       "</style>\n",
       "<table border=\"1\" class=\"dataframe\">\n",
       "  <thead>\n",
       "    <tr style=\"text-align: right;\">\n",
       "      <th></th>\n",
       "      <th>Months</th>\n",
       "    </tr>\n",
       "  </thead>\n",
       "  <tbody>\n",
       "    <tr>\n",
       "      <th>0</th>\n",
       "      <td>15</td>\n",
       "    </tr>\n",
       "    <tr>\n",
       "      <th>1</th>\n",
       "      <td>7</td>\n",
       "    </tr>\n",
       "    <tr>\n",
       "      <th>2</th>\n",
       "      <td>13</td>\n",
       "    </tr>\n",
       "    <tr>\n",
       "      <th>3</th>\n",
       "      <td>11</td>\n",
       "    </tr>\n",
       "    <tr>\n",
       "      <th>4</th>\n",
       "      <td>16</td>\n",
       "    </tr>\n",
       "  </tbody>\n",
       "</table>\n",
       "</div>"
      ],
      "text/plain": [
       "   Months\n",
       "0      15\n",
       "1       7\n",
       "2      13\n",
       "3      11\n",
       "4      16"
      ]
     },
     "execution_count": 4,
     "metadata": {},
     "output_type": "execute_result"
    }
   ],
   "source": [
    "df = pd.DataFrame(data={'Months': [\n",
    "15, 7,13,11,16,11,10, 6,11, 7,\n",
    "15,14, 7,11,11,10, 8, 9,10,13\n",
    "]})\n",
    "df.head()"
   ]
  },
  {
   "cell_type": "code",
   "execution_count": 5,
   "metadata": {},
   "outputs": [
    {
     "name": "stdout",
     "output_type": "stream",
     "text": [
      "t-score: 1.32773\n",
      "Confidence interval: [9.8838, 11.6162]\n"
     ]
    }
   ],
   "source": [
    "# Step 1.\n",
    "m = df.Months.mean()      # Sample mean\n",
    "s = df.Months.std()      # Population standard deviation\n",
    "n = df.Months.count()      # Sample size\n",
    "alpha = .2  # 1 - alpha is the confidence level\n",
    "\n",
    "# Stap 2.\n",
    "t = stats.t.isf(alpha/2, df = n - 1)\n",
    "print(\"t-score: %.5f\" % t)\n",
    "\n",
    "# Stap 3.\n",
    "lo = m - t * s / np.sqrt(n)\n",
    "hi = m + t * s / np.sqrt(n)\n",
    "print(\"Confidence interval: [%.3f, %.3f]\" % (lo, hi))"
   ]
  },
  {
   "cell_type": "markdown",
   "metadata": {},
   "source": [
    "Confidence interval: [9.884, 11.616]"
   ]
  },
  {
   "cell_type": "markdown",
   "metadata": {},
   "source": [
    "# Vraag 5\n",
    "\n",
    "df = pd.DataFrame(data={\n",
    "'time1': [65, 87, 59, 71, 58, 74, 55, 98, 62, 53, 84, 63, 78, 62, 60],\n",
    "'time2': [82, 91, 86, 83, 85, 51, 65, 61, 76, 65, 53, 70, 51, 55, 68]\n",
    "})\n",
    "\n",
    "- (a) Welke statistische toets moet je gebruiken om deze onderzoeksvraag te beantwoorden?\n",
    "Wees zo specifiek mogelijk!\n",
    "- (b) Formuleer de nulhypothese en de alternatieve hypothese.\n",
    "- (c) Bereken de p-waarde.\n",
    "- (d) Trek een besluit op basis van de vorige stap en formuleer een antwoord op de onderzoeksvraag.\n",
    "- (e) Geef voor de observaties op tijdstip time1:\n",
    "  - (i) De interkwartielafstand\n",
    "  - (ii) De kurtosis\n",
    "  - (iii) Het bereik\n",
    "  - (iv) De standaardafwijking"
   ]
  },
  {
   "cell_type": "code",
   "execution_count": 7,
   "metadata": {},
   "outputs": [],
   "source": [
    "df = pd.DataFrame(data={\n",
    "'time1': [65, 87, 59, 71, 58, 74, 55, 98, 62, 53, 84, 63, 78, 62, 60],\n",
    "'time2': [82, 91, 86, 83, 85, 51, 65, 61, 76, 65, 53, 70, 51, 55, 68]\n",
    "})"
   ]
  },
  {
   "cell_type": "code",
   "execution_count": 14,
   "metadata": {},
   "outputs": [
    {
     "name": "stdout",
     "output_type": "stream",
     "text": [
      "De p-waarde is 0.8743994859994443 en is << 5% => er is niet voldoende bewijs om H0 te verwerpen\n"
     ]
    }
   ],
   "source": [
    "#C\n",
    "\n",
    "# Measurements:\n",
    "time1=   np.array(df.time1)\n",
    "time2 = np.array(df.time2)\n",
    "\n",
    "# Paired t-test with ttest_rel()\n",
    "s,p = stats.ttest_rel(time1, time2, alternative='two-sided')\n",
    "print(f\"De p-waarde is {p} en is << 5% => er is niet voldoende bewijs om H0 te verwerpen\")"
   ]
  },
  {
   "cell_type": "code",
   "execution_count": 10,
   "metadata": {},
   "outputs": [
    {
     "name": "stdout",
     "output_type": "stream",
     "text": [
      "De interkwartielafstand is 16.5\n",
      "De Kurtosis is 0.15796776764037945\n",
      "De bereik is 45\n",
      "De standaardafwijking is 13.09743704481366\n"
     ]
    }
   ],
   "source": [
    "# e i\n",
    "print(f\"De interkwartielafstand is {df.time1.quantile(0.75)-df.time1.quantile(0.25)}\")\n",
    "# e 2\n",
    "print(f\"De Kurtosis is {df.time1.kurtosis()}\")\n",
    "# e 3\n",
    "print(f\"De bereik is {df.time1.max()-df.time1.min()}\")\n",
    "# e4\n",
    "print(f\"De standaardafwijking is {df.time1.std()}\")\n",
    "\n"
   ]
  },
  {
   "cell_type": "markdown",
   "metadata": {},
   "source": [
    "A. Two sample t test for paired samples\n",
    "B.\n",
    "- $H_{0}$: metingen op 2de tijdstip niet significant verschillend dan die op het 1ste tijdstip\n",
    "- $H_{1}$: De metingen op het 2de tijdstip zijn significant verschillend\n",
    "\n",
    "C. De p-waarde is 87,4399% en is << 5% =>  \n",
    "D. er is niet voldoende bewijs om H0 te verwerpen\n",
    "\n",
    "\n",
    "E. \n",
    "- De interkwartielafstand is 16.5\n",
    "- De Kurtosis is 0.15796776764037945\n",
    "- De bereik is 45\n",
    "- De standaardafwijking is 13.09743704481366"
   ]
  },
  {
   "cell_type": "markdown",
   "metadata": {},
   "source": [
    "# Vraag 6\n",
    "df = pd.DataFrame(data={'Choice': [\n",
    "\"Product A\",\"Product A\",\"Product B\",\"Product B\",\"Product C\",\n",
    "\"Product B\",\"Product B\",\"Product B\",\"Product C\",\"Product B\",\n",
    "\"Product C\",\"Product A\",\"Product C\",\"Product B\",\"Product C\",\n",
    "\"Product B\",\"Product C\",\"Product C\",\"Product C\",\"Product B\",\n",
    "\"Product C\",\"Product C\",\"Product B\",\"Product C\",\"Product B\",\n",
    "\"Product B\",\"Product B\",\"Product B\",\"Product A\",\"Product B\",\n",
    "\"Product B\",\"Product B\",\"Product B\",\"Product B\",\"Product C\",\n",
    "\"Product C\",\"Product B\",\"Product C\",\"Product C\",\"Product A\",\n",
    "\"Product C\",\"Product C\",\"Product B\",\"Product B\",\"Product B\",\n",
    "\"Product B\",\"Product C\",\"Product C\",\"Product C\",\"Product C\",\n",
    "\"Product C\",\"Product B\",\"Product A\",\"Product C\",\"Product C\",\n",
    "\"Product B\",\"Product B\",\"Product C\",\"Product C\",\"Product C\",\n",
    "\"Product B\",\"Product C\",\"Product B\",\"Product B\",\"Product C\",\n",
    "\"Product B\",\"Product B\",\"Product C\",\"Product C\",\"Product B\",\n",
    "\"Product C\",\"Product C\",\"Product C\",\"Product B\",\"Product B\",\n",
    "\"Product C\",\"Product C\",\"Product C\",\"Product C\",\"Product C\",\n",
    "\"Product C\",\"Product C\",\"Product C\",\"Product C\",\"Product C\",\n",
    "\"Product C\",\"Product C\",\"Product C\",\"Product C\",\"Product B\"\n",
    "]})\n",
    "\n",
    "\n",
    "(a) Welke hypothesetoets ga je toepassen om deze onderzoeksvraag te beantwoorden? Wees\n",
    "zo specifiek mogelijk!  \n",
    "(b) Formuleer de nulhypothese en de alternatieve hypothese  \n",
    "(c) Bereken de gepaste toetsingsgrootheid (teststatistiek) voor deze toets. Geef het symbool\n",
    "en de waarde  \n",
    "(d) Bereken de p-waarde  \n",
    "(e) Welke conclusie trek je?  \n",
    "(f) Formuleer een antwoord op de onderzoeksvraag  \n"
   ]
  },
  {
   "cell_type": "markdown",
   "metadata": {},
   "source": [
    "A. Chi² goodness of fit\n",
    "B. \n",
    "- $H_{0}$ klanten vonden de drie even goed\n",
    "- $H_{1}$ klanten vonden niet even goed"
   ]
  },
  {
   "cell_type": "code",
   "execution_count": 27,
   "metadata": {},
   "outputs": [
    {
     "name": "stdout",
     "output_type": "stream",
     "text": [
      "Significance level  ⍺ = 0.05\n",
      "Sample size         n = 90\n",
      "k = 3; df = 2\n",
      "Chi-squared        χ² = 31.2000\n",
      "Critical value      g = 5.9915\n",
      "p-value             p = 0.0000\n",
      "p - waarde  is 1.6788275299956632e-07<< 0.05=> er is voldoende aanwijzing om de H0 hypothese te verwerpen\n",
      "chi² - waarde  is 31.2>>>>>>> 5.991464547107983=> er is voldoende aanwijzing om de H0 hypothese te verwerpen\n"
     ]
    }
   ],
   "source": [
    "df = pd.DataFrame(data={'Choice': [\n",
    "\"Product A\",\"Product A\",\"Product B\",\"Product B\",\"Product C\",\n",
    "\"Product B\",\"Product B\",\"Product B\",\"Product C\",\"Product B\",\n",
    "\"Product C\",\"Product A\",\"Product C\",\"Product B\",\"Product C\",\n",
    "\"Product B\",\"Product C\",\"Product C\",\"Product C\",\"Product B\",\n",
    "\"Product C\",\"Product C\",\"Product B\",\"Product C\",\"Product B\",\n",
    "\"Product B\",\"Product B\",\"Product B\",\"Product A\",\"Product B\",\n",
    "\"Product B\",\"Product B\",\"Product B\",\"Product B\",\"Product C\",\n",
    "\"Product C\",\"Product B\",\"Product C\",\"Product C\",\"Product A\",\n",
    "\"Product C\",\"Product C\",\"Product B\",\"Product B\",\"Product B\",\n",
    "\"Product B\",\"Product C\",\"Product C\",\"Product C\",\"Product C\",\n",
    "\"Product C\",\"Product B\",\"Product A\",\"Product C\",\"Product C\",\n",
    "\"Product B\",\"Product B\",\"Product C\",\"Product C\",\"Product C\",\n",
    "\"Product B\",\"Product C\",\"Product B\",\"Product B\",\"Product C\",\n",
    "\"Product B\",\"Product B\",\"Product C\",\"Product C\",\"Product B\",\n",
    "\"Product C\",\"Product C\",\"Product C\",\"Product B\",\"Product B\",\n",
    "\"Product C\",\"Product C\",\"Product C\",\"Product C\",\"Product C\",\n",
    "\"Product C\",\"Product C\",\"Product C\",\"Product C\",\"Product C\",\n",
    "\"Product C\",\"Product C\",\"Product C\",\"Product C\",\"Product B\"\n",
    "]})\n",
    "observed = df.Choice.value_counts()\n",
    "expected_p = np.array([1/3,1/3,1/3])\n",
    "\n",
    "alpha = 0.05               # Significance level\n",
    "n = sum(observed)          # Sample size\n",
    "k = len(observed)          # Number of categories\n",
    "dof = k - 1                # Degrees of freedom\n",
    "expected = expected_p * n  # Expected absolute frequencies in the sample\n",
    "g = stats.chi2.isf(alpha, df=dof)  # Critical value\n",
    "\n",
    "# Goodness-of-fit-test in Python:\n",
    "chi2, p = stats.chisquare(f_obs=observed, f_exp=expected)\n",
    "\n",
    "print(\"Significance level  ⍺ = %.2f\" % alpha)\n",
    "print(\"Sample size         n = %d\" % n)\n",
    "print(\"k = %d; df = %d\" % (k, dof))\n",
    "print(\"Chi-squared        χ² = %.4f\" % chi2)\n",
    "print(\"Critical value      g = %.4f\" % g)\n",
    "print(\"p-value             p = %.4f\" % p)\n",
    "\n",
    "\n",
    "print(f\"p - waarde  is {p}<< 0.05=> er is voldoende aanwijzing om de H0 hypothese te verwerpen\")\n",
    "print(f\"chi² - waarde  is {chi2}>>>>>>> {g}=> er is voldoende aanwijzing om de H0 hypothese te verwerpen\")"
   ]
  },
  {
   "cell_type": "markdown",
   "metadata": {},
   "source": [
    "antw op onderzoeksvraag:\n",
    "\n",
    "F: De klanten hadden zeker niet even veel voorkeur voor de 3 producten."
   ]
  },
  {
   "cell_type": "code",
   "execution_count": 30,
   "metadata": {},
   "outputs": [
    {
     "name": "stdout",
     "output_type": "stream",
     "text": [
      "Significance level  ⍺ = 0.05\n",
      "Sample size         n = 84\n",
      "k = 2; df = 1\n",
      "Chi-squared        χ² = 1.7143\n",
      "Critical value      g = 3.8415\n",
      "p-value             p = 0.1904\n",
      "p - waarde  is 0.19043026382552042> 0.05=> er is niet voldoende aanwijzing om de H0 hypothese te verwerpen\n",
      "chi² - waarde  is 1.7142857142857142< 3.8414588206941285=> er is niet voldoende aanwijzing om de H0 hypothese te verwerpen\n"
     ]
    }
   ],
   "source": [
    "df = pd.DataFrame(data={'Choice': [\n",
    "\"Product A\",\"Product A\",\"Product B\",\"Product B\",\"Product C\",\n",
    "\"Product B\",\"Product B\",\"Product B\",\"Product C\",\"Product B\",\n",
    "\"Product C\",\"Product A\",\"Product C\",\"Product B\",\"Product C\",\n",
    "\"Product B\",\"Product C\",\"Product C\",\"Product C\",\"Product B\",\n",
    "\"Product C\",\"Product C\",\"Product B\",\"Product C\",\"Product B\",\n",
    "\"Product B\",\"Product B\",\"Product B\",\"Product A\",\"Product B\",\n",
    "\"Product B\",\"Product B\",\"Product B\",\"Product B\",\"Product C\",\n",
    "\"Product C\",\"Product B\",\"Product C\",\"Product C\",\"Product A\",\n",
    "\"Product C\",\"Product C\",\"Product B\",\"Product B\",\"Product B\",\n",
    "\"Product B\",\"Product C\",\"Product C\",\"Product C\",\"Product C\",\n",
    "\"Product C\",\"Product B\",\"Product A\",\"Product C\",\"Product C\",\n",
    "\"Product B\",\"Product B\",\"Product C\",\"Product C\",\"Product C\",\n",
    "\"Product B\",\"Product C\",\"Product B\",\"Product B\",\"Product C\",\n",
    "\"Product B\",\"Product B\",\"Product C\",\"Product C\",\"Product B\",\n",
    "\"Product C\",\"Product C\",\"Product C\",\"Product B\",\"Product B\",\n",
    "\"Product C\",\"Product C\",\"Product C\",\"Product C\",\"Product C\",\n",
    "\"Product C\",\"Product C\",\"Product C\",\"Product C\",\"Product C\",\n",
    "\"Product C\",\"Product C\",\"Product C\",\"Product C\",\"Product B\"\n",
    "]})\n",
    "observed = df.Choice[df.Choice!=\"Product A\"].value_counts()\n",
    "expected_p = np.array([1/2,1/2])\n",
    "\n",
    "alpha = 0.05               # Significance level\n",
    "n = sum(observed)          # Sample size\n",
    "k = len(observed)          # Number of categories\n",
    "dof = k - 1                # Degrees of freedom\n",
    "expected = expected_p * n  # Expected absolute frequencies in the sample\n",
    "g = stats.chi2.isf(alpha, df=dof)  # Critical value\n",
    "\n",
    "# Goodness-of-fit-test in Python:\n",
    "chi2, p = stats.chisquare(f_obs=observed, f_exp=expected)\n",
    "\n",
    "print(\"Significance level  ⍺ = %.2f\" % alpha)\n",
    "print(\"Sample size         n = %d\" % n)\n",
    "print(\"k = %d; df = %d\" % (k, dof))\n",
    "print(\"Chi-squared        χ² = %.4f\" % chi2)\n",
    "print(\"Critical value      g = %.4f\" % g)\n",
    "print(\"p-value             p = %.4f\" % p)\n",
    "\n",
    "\n",
    "print(f\"p - waarde  is {p}> 0.05=> er is niet voldoende aanwijzing om de H0 hypothese te verwerpen\")\n",
    "print(f\"chi² - waarde  is {chi2}< {g}=> er is niet voldoende aanwijzing om de H0 hypothese te verwerpen\")"
   ]
  },
  {
   "cell_type": "markdown",
   "metadata": {},
   "source": [
    "F. er was geeen significante voorkeur voor product c\n"
   ]
  },
  {
   "cell_type": "markdown",
   "metadata": {},
   "source": [
    "# Vraag 7\n",
    "\n",
    "\n",
    "(a) Bereken de richtingsco¨effici¨ent van de regressierechte  \n",
    "(b) Bereken het snijpunt van de regressierechte met de y-as  \n",
    "(c) Bereken de correlatieco¨effici¨ent (symbool + waarde)  \n",
    "(d) Formuleer een interpretatie voor de waarde van de correlatieco¨effici¨ent  \n",
    "(e) Bereken de determinatieco¨effici¨ent (symbool + waarde)  \n",
    "(f) Geef een interpretatie voor de waarde van de determinatieco¨effici¨ent  "
   ]
  },
  {
   "cell_type": "code",
   "execution_count": 35,
   "metadata": {},
   "outputs": [
    {
     "name": "stdout",
     "output_type": "stream",
     "text": [
      "Regression line: ŷ = 427.43 + 0.02 x\n"
     ]
    },
    {
     "data": {
      "image/png": "[encoded data removed]",
      "text/plain": [
       "<Figure size 432x288 with 1 Axes>"
      ]
     },
     "metadata": {
      "needs_background": "light"
     },
     "output_type": "display_data"
    }
   ],
   "source": [
    "df = pd.DataFrame(data={\n",
    "'x': [\n",
    "394, 369, 393, 442, 371, 416, 477, 406, 422, 459,\n",
    "410, 433, 365, 454, 373, 400, 354, 422, 399, 365,\n",
    "367, 428, 423, 336, 400, 425, 429, 413, 395, 474,\n",
    "405, 410, 383, 359, 429, 372, 331, 476, 395, 339,\n",
    "417, 347, 414, 444, 390, 389, 467, 386, 371, 367,\n",
    "378, 447, 432, 382, 339, 341, 401, 430, 386, 413,\n",
    "435, 414, 433, 435, 362, 356, 386, 322, 455, 384,\n",
    "321, 416, 390, 411, 397, 483, 405, 367, 367, 406,\n",
    "394, 424, 389, 333, 442, 422, 381, 450, 390, 392,\n",
    "368, 381, 406, 337, 419, 397, 427, 368, 501, 435],\n",
    "'y': [\n",
    "461, 427, 468, 426, 418, 463, 441, 461, 436, 439,\n",
    "444, 425, 395, 426, 425, 443, 420, 442, 471, 455,\n",
    "432, 419, 438, 411, 468, 439, 424, 462, 405, 462,\n",
    "407, 435, 422, 450, 436, 450, 440, 418, 426, 423,\n",
    "426, 422, 414, 408, 442, 434, 454, 441, 406, 396,\n",
    "497, 394, 435, 460, 461, 451, 422, 432, 438, 449,\n",
    "410, 426, 435, 460, 452, 475, 426, 437, 469, 444,\n",
    "444, 439, 446, 461, 448, 474, 432, 412, 449, 430,\n",
    "433, 423, 449, 429, 386, 480, 422, 464, 397, 407,\n",
    "409, 455, 461, 431, 420, 445, 424, 453, 432, 449]\n",
    "})\n",
    "\n",
    "sns.regplot(x=df[\"x\"], y=df[\"y\"])\n"
   ]
  },
  {
   "cell_type": "code",
   "execution_count": 43,
   "metadata": {},
   "outputs": [
    {
     "name": "stdout",
     "output_type": "stream",
     "text": [
      "covariantie = 33.26111111111113\n",
      "a  rico: 0.023 \n",
      "b snijpunt y as = 427.433\n",
      "c R=0.042\n",
      "d zie commentaar boven de print lijn\n",
      "e R²= 0.002\n"
     ]
    }
   ],
   "source": [
    "from sklearn.linear_model import LinearRegression\n",
    "\n",
    "xje = df.x.values.reshape(-1,1)\n",
    "yje = df.y\n",
    "\n",
    "weight_model = LinearRegression().fit(xje, yje)\n",
    "#covariatie(niet gevraagd)\n",
    "cov = np.cov(df.x, df.y, ddof=1)[0][1]\n",
    "print(f\"covariantie = {cov}\")\n",
    "\n",
    "#interpretatie van covariantie (niet gevraagd)\n",
    "# cov>0 => stijgend verband (is het enige da je er kan uit halen)\n",
    "# (cov<0 => dalend )\n",
    "\n",
    "print(f\"a  rico: {weight_model.coef_[0]:.3f} \")\n",
    "print(f\"b snijpunt y as = {weight_model.intercept_:.3f}\")\n",
    "#correlatie\n",
    "cor = np.corrcoef(df.x, df.y)[0][1]\n",
    "print(f\"c R={cor:.3f}\")\n",
    "#interpretatie correlatie\n",
    "# teken is pos=> stijgend verband \n",
    "# R dicht bij nul dus zeer zwak verband\n",
    "\n",
    "print(f'd zie commentaar boven de print lijn')\n",
    "#determinatiecoef\n",
    "\n",
    "print(f\"e R²= {cor**2:.3f}\")\n",
    "#f\n",
    "#interpretatie van\n",
    "# grootte R²= ong nul dus zeer zwak verbanden\n",
    "# verklaring vna de variantie\n",
    "print(f\"f\")"
   ]
  },
  {
   "cell_type": "markdown",
   "metadata": {},
   "source": [
    "# vraag 8\n",
    "(a) Geef voor elk aan over welke vorm het precies gaat. Kies uit de daaronder gegeven\n",
    "mogelijkheden.\n",
    "- A (paars, - - - -)\n",
    "- B (cyaan, . . . .)\n",
    "- C (rood, - · - ·)\n",
    "\n",
    "Mogelijkheden:\n",
    "- Eenvoudig voortschrijdend gemiddelde met periode 3\n",
    "- Eenvoudig voortschrijdend gemiddelde met periode 12\n",
    "- Enkelvoudige exponenti¨ele afvlakking met α = 0, 1\n",
    "- Enkelvoudige exponenti¨ele afvlakking met α = 0, 9\n",
    "\n",
    "(b) Als je voor deze tijdreeks een model zou moeten opzetten gebaseerd op exponenti¨ele\n",
    "afvlakking, welke zou je dan gebruiken?\n",
    "- Enkelvoudige exponenti¨ele afvlakking\n",
    "- Dubbele exponenti¨ele afvlakking (methode van Holt)\n",
    "- Driedubbele exponenti¨ele afvlakking (methode van Holt-Winters) met additieve seizoenale schommelingen\n",
    "- Driedubbele exponenti¨ele afvlakking (methode van Holt-Winters) met multiplicatieve\n",
    "seizoenale schommelingen \n"
   ]
  },
  {
   "cell_type": "markdown",
   "metadata": {},
   "source": [
    "A\n",
    "- A: Eenvoudig voortschrijdend gemiddelde met periode 12\n",
    "  - ge kunt het weten omdta hij begint vanaf jan 2019 (pas vanaf de 12demaand)\n",
    "  - en hij is afgevlakt niet zoveel scherpe pieken enz fzo?\n",
    "- B: Enkelvoudige exponenti¨ele afvlakking met α = 0, 1\n",
    "  - 0.1 omdat het zeer afgevlakt i s bij 0.9 zou het veel sterker de effectieve waarde volgen (omdat meer gewicht aan de recentste waarde enz)\n",
    "- C: Eenvoudig voortschrijdend gemiddelde met periode 3\n",
    "  - het begint pas vanaf 3 en is smooth enzo\n",
    "  \n",
    "B: Double Exponential smoothing wel een trent geen seizoen dingen. \n",
    "\n"
   ]
  },
  {
   "cell_type": "code",
   "execution_count": null,
   "metadata": {},
   "outputs": [],
   "source": []
  }
 ],
 "metadata": {
  "interpreter": {
   "hash": "03bb4e7251c2d6188de95ca7833c5337872a881c74d4eb95ec0d0135d9398a41"
  },
  "kernelspec": {
   "display_name": "Python 3.9.7 64-bit",
   "language": "python",
   "name": "python3"
  },
  "language_info": {
   "codemirror_mode": {
    "name": "ipython",
    "version": 3
   },
   "file_extension": ".py",
   "mimetype": "text/x-python",
   "name": "python",
   "nbconvert_exporter": "python",
   "pygments_lexer": "ipython3",
   "version": "3.9.7"
  },
  "orig_nbformat": 4
 },
 "nbformat": 4,
 "nbformat_minor": 2
}
