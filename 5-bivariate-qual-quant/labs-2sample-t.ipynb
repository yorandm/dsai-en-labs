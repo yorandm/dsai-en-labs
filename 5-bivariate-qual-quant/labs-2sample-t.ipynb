{
 "cells": [
  {
   "cell_type": "markdown",
   "metadata": {},
   "source": [
    "# Module 5. Labs two-sample t-test"
   ]
  },
  {
   "cell_type": "code",
   "execution_count": 2,
   "metadata": {},
   "outputs": [],
   "source": [
    "# Package imports\n",
    "import numpy as np                                  # \"Scientific computing\"\n",
    "import scipy.stats as stats                         # Statistical tests\n",
    "\n",
    "import pandas as pd                                 # Dataframe\n",
    "import matplotlib.pyplot as plt                     # Basic visualisation\n",
    "from statsmodels.graphics.mosaicplot import mosaic  # Mosaic plot\n",
    "import seaborn as sns                               # Advanced dataviz"
   ]
  },
  {
   "cell_type": "markdown",
   "metadata": {},
   "source": [
    "## Android Persistence libraries performance comparison\n",
    "\n",
    "We analyzed the results of performance measurements for Android persistence libraries (Akin, 2016). Experiments were performed for different combinations of *DataSize* (Small, Medium, Large) and *PersistenceType* (GreenDAO, Realm, SharedPreferences, SQLite). For each data size, we were able to determine which persistence type yielded the best results.\n",
    "\n",
    "Now we will verify if the best persistence type at first glance is also *significantly* better than the competition.\n",
    "\n",
    "Specifically: Using a two-sample test for each data size, verify that the mean of the best persistence type is significantly lower than the mean of the second best and the worst scoring type.\n",
    "\n",
    "Can we maintain the conclusion that for a given data size, one persistence type is best, i.e. is significantly better than any other persistence type?"
   ]
  },
  {
   "cell_type": "code",
   "execution_count": 9,
   "metadata": {},
   "outputs": [
    {
     "data": {
      "text/html": [
       "<div>\n",
       "<style scoped>\n",
       "    .dataframe tbody tr th:only-of-type {\n",
       "        vertical-align: middle;\n",
       "    }\n",
       "\n",
       "    .dataframe tbody tr th {\n",
       "        vertical-align: top;\n",
       "    }\n",
       "\n",
       "    .dataframe thead th {\n",
       "        text-align: right;\n",
       "    }\n",
       "</style>\n",
       "<table border=\"1\" class=\"dataframe\">\n",
       "  <thead>\n",
       "    <tr style=\"text-align: right;\">\n",
       "      <th></th>\n",
       "      <th>Time</th>\n",
       "      <th>PersistenceType</th>\n",
       "      <th>DataSize</th>\n",
       "    </tr>\n",
       "  </thead>\n",
       "  <tbody>\n",
       "    <tr>\n",
       "      <th>0</th>\n",
       "      <td>1.81</td>\n",
       "      <td>Sharedpreferences</td>\n",
       "      <td>Small</td>\n",
       "    </tr>\n",
       "    <tr>\n",
       "      <th>1</th>\n",
       "      <td>1.35</td>\n",
       "      <td>Sharedpreferences</td>\n",
       "      <td>Small</td>\n",
       "    </tr>\n",
       "    <tr>\n",
       "      <th>2</th>\n",
       "      <td>1.84</td>\n",
       "      <td>Sharedpreferences</td>\n",
       "      <td>Small</td>\n",
       "    </tr>\n",
       "    <tr>\n",
       "      <th>3</th>\n",
       "      <td>1.54</td>\n",
       "      <td>Sharedpreferences</td>\n",
       "      <td>Small</td>\n",
       "    </tr>\n",
       "    <tr>\n",
       "      <th>4</th>\n",
       "      <td>1.81</td>\n",
       "      <td>Sharedpreferences</td>\n",
       "      <td>Small</td>\n",
       "    </tr>\n",
       "  </tbody>\n",
       "</table>\n",
       "</div>"
      ],
      "text/plain": [
       "   Time    PersistenceType DataSize\n",
       "0  1.81  Sharedpreferences    Small\n",
       "1  1.35  Sharedpreferences    Small\n",
       "2  1.84  Sharedpreferences    Small\n",
       "3  1.54  Sharedpreferences    Small\n",
       "4  1.81  Sharedpreferences    Small"
      ]
     },
     "execution_count": 9,
     "metadata": {},
     "output_type": "execute_result"
    }
   ],
   "source": [
    "android = pd.read_csv(\"../data/android_persistence_cpu.csv\", delimiter=';')\n",
    "android.head()\n"
   ]
  },
  {
   "cell_type": "code",
   "execution_count": 11,
   "metadata": {},
   "outputs": [
    {
     "data": {
      "text/plain": [
       "DataSize  PersistenceType  \n",
       "Large     GreenDAO             12.110333\n",
       "          Realm                10.651667\n",
       "          SQLLite              11.515000\n",
       "Medium    GreenDAO              7.454000\n",
       "          Realm                 5.818000\n",
       "          SQLLite               7.794000\n",
       "Small     GreenDAO              1.893667\n",
       "          Realm                 1.599000\n",
       "          SQLLite               1.799000\n",
       "          Sharedpreferences     1.673667\n",
       "Name: Time, dtype: float64"
      ]
     },
     "execution_count": 11,
     "metadata": {},
     "output_type": "execute_result"
    }
   ],
   "source": [
    "android.groupby(['DataSize','PersistenceType'])['Time'].mean()"
   ]
  },
  {
   "cell_type": "code",
   "execution_count": 14,
   "metadata": {},
   "outputs": [],
   "source": [
    "android_Small = android[android.DataSize==\"Small\"]\n",
    "android_Medium = android[android.DataSize==\"Medium\"]\n",
    "android_Large = android[android.DataSize==\"Large\"]"
   ]
  },
  {
   "cell_type": "markdown",
   "metadata": {},
   "source": [
    "Small"
   ]
  },
  {
   "cell_type": "code",
   "execution_count": 28,
   "metadata": {},
   "outputs": [
    {
     "data": {
      "text/plain": [
       "Ttest_indResult(statistic=-0.9624716662718158, pvalue=0.16992370571901427)"
      ]
     },
     "execution_count": 28,
     "metadata": {},
     "output_type": "execute_result"
    }
   ],
   "source": [
    "realm = android_Small[android_Small[\"PersistenceType\"]==\"Realm\"]\n",
    "shared = android_Small[android_Small[\"PersistenceType\"]==\"Sharedpreferences\"]\n",
    "stats.ttest_ind(a=realm.Time, b=shared.Time, alternative='less', equal_var=False)\n"
   ]
  },
  {
   "cell_type": "markdown",
   "metadata": {},
   "source": [
    "Medium"
   ]
  },
  {
   "cell_type": "code",
   "execution_count": 30,
   "metadata": {},
   "outputs": [
    {
     "data": {
      "text/plain": [
       "Ttest_indResult(statistic=-3.720451024030081, pvalue=0.0002506300568234833)"
      ]
     },
     "execution_count": 30,
     "metadata": {},
     "output_type": "execute_result"
    }
   ],
   "source": [
    "realm = android_Medium[android_Medium[\"PersistenceType\"]==\"Realm\"]\n",
    "green = android_Medium[android_Medium[\"PersistenceType\"]==\"GreenDAO\"]\n",
    "stats.ttest_ind(a=realm.Time, b=green.Time, alternative='less', equal_var=False)\n"
   ]
  },
  {
   "cell_type": "markdown",
   "metadata": {},
   "source": [
    "Large"
   ]
  },
  {
   "cell_type": "code",
   "execution_count": 31,
   "metadata": {},
   "outputs": [
    {
     "data": {
      "text/plain": [
       "Ttest_indResult(statistic=-3.1251713022860717, pvalue=0.0016999220614984435)"
      ]
     },
     "execution_count": 31,
     "metadata": {},
     "output_type": "execute_result"
    }
   ],
   "source": [
    "realm = android_Large[android_Large[\"PersistenceType\"]==\"Realm\"]\n",
    "sql = android_Large[android_Large[\"PersistenceType\"]==\"SQLLite\"]\n",
    "stats.ttest_ind(a=realm.Time, b=sql.Time, alternative='less', equal_var=False)"
   ]
  },
  {
   "cell_type": "markdown",
   "metadata": {},
   "source": [
    "### Answers\n",
    "\n",
    "The table below provides an overview of the best and second best persistence type for each data size (based on the sample mean).\n",
    "\n",
    "| Data Size | Best  | 2nd Best          | p-value   |\n",
    "| :-------- | :---- | :---------------- | :-------- |\n",
    "| Small     | Realm | SharedPreferences | 0.1699    |\n",
    "| Medium    | Realm | GreenDAO          | 0.0002506 |\n",
    "| Large     | Realm | SQLite            | 0.0017    |\n",
    "\n",
    "The conclusion of Akin (2016), which states that Realm is the most efficient persistence type, still holds, but for the small data sets the difference is not significant.\n",
    "\n",
    "Note that we have not explicitly selected a specific significance level in advance. However, for $\\alpha$ = 0.1, 0.05 or even 0.01, the same conclusion can be drawn."
   ]
  },
  {
   "cell_type": "markdown",
   "metadata": {},
   "source": [
    "##  Comparing test results between groups\n",
    "\n",
    "A large number of students participated in a test that was organized in several successive sessions. Because creating a separate test for each session was practically unfeasible, the same questions were used in each session. Consequently, there is a danger that students could pass on information about the test to the groups that still had to come after. Later groups then have an advantage over the first. However, this also evident from the test scores?\n",
    "\n",
    "The file `test-results.csv` contains all results of the test. The score is a floating point number with maximum 40. If the score field is empty, this indicates a student that was absent. Each session is identified by a letter, in the order of the consecutive sessions.\n",
    "\n",
    "- Day 1: sessions A, B\n",
    "- Day 2: sessions C, D, E\n",
    "- Day 3: sessions F, G, H\n",
    "\n",
    "Sessions A and B were conducted on a different campus, so it could be assumed that there is little to no communication with students from other sessions.\n",
    "\n",
    "If information was passed on successfully, we expect the scores of later groups to be significantly better than the first.\n",
    "\n",
    "**Note** that the reverse reasoning does not necessarily hold: if it turns out that the result of later sessions is indeed significantly better, this does not necessarily mean that the (only) cause is passing on of information. There may also be other causes (e.g. “weaker” class groups happen to be scheduled earlier).\n"
   ]
  },
  {
   "cell_type": "code",
   "execution_count": 41,
   "metadata": {},
   "outputs": [],
   "source": [
    "test = pd.read_csv(\"../data/test-results.csv\")\n",
    "test = test.dropna()\n"
   ]
  },
  {
   "cell_type": "code",
   "execution_count": 42,
   "metadata": {},
   "outputs": [
    {
     "data": {
      "text/html": [
       "<div>\n",
       "<style scoped>\n",
       "    .dataframe tbody tr th:only-of-type {\n",
       "        vertical-align: middle;\n",
       "    }\n",
       "\n",
       "    .dataframe tbody tr th {\n",
       "        vertical-align: top;\n",
       "    }\n",
       "\n",
       "    .dataframe thead th {\n",
       "        text-align: right;\n",
       "    }\n",
       "</style>\n",
       "<table border=\"1\" class=\"dataframe\">\n",
       "  <thead>\n",
       "    <tr style=\"text-align: right;\">\n",
       "      <th></th>\n",
       "      <th>Session</th>\n",
       "      <th>Score</th>\n",
       "    </tr>\n",
       "  </thead>\n",
       "  <tbody>\n",
       "    <tr>\n",
       "      <th>0</th>\n",
       "      <td>A</td>\n",
       "      <td>12.5</td>\n",
       "    </tr>\n",
       "    <tr>\n",
       "      <th>1</th>\n",
       "      <td>A</td>\n",
       "      <td>7.5</td>\n",
       "    </tr>\n",
       "    <tr>\n",
       "      <th>3</th>\n",
       "      <td>A</td>\n",
       "      <td>21.0</td>\n",
       "    </tr>\n",
       "    <tr>\n",
       "      <th>4</th>\n",
       "      <td>A</td>\n",
       "      <td>10.0</td>\n",
       "    </tr>\n",
       "    <tr>\n",
       "      <th>5</th>\n",
       "      <td>A</td>\n",
       "      <td>20.5</td>\n",
       "    </tr>\n",
       "  </tbody>\n",
       "</table>\n",
       "</div>"
      ],
      "text/plain": [
       "  Session  Score\n",
       "0       A   12.5\n",
       "1       A    7.5\n",
       "3       A   21.0\n",
       "4       A   10.0\n",
       "5       A   20.5"
      ]
     },
     "execution_count": 42,
     "metadata": {},
     "output_type": "execute_result"
    }
   ],
   "source": [
    "test.head()"
   ]
  },
  {
   "cell_type": "markdown",
   "metadata": {},
   "source": [
    "\n",
    "\n",
    "1. Explore the data. Calculate the appropriate measures for central tendency and dispersion for the full dataset and for each session individually.\n",
    "   \n"
   ]
  },
  {
   "cell_type": "code",
   "execution_count": 44,
   "metadata": {},
   "outputs": [
    {
     "name": "stdout",
     "output_type": "stream",
     "text": [
      "gemiddelde volledig 18.788974\n",
      "Gemiddelde per sessie\n",
      "Session\n",
      "A    13.1\n",
      "B    17.2\n",
      "C    18.8\n",
      "D    22.5\n",
      "E    18.9\n",
      "F    17.8\n",
      "G    18.7\n",
      "H    20.9\n",
      "Name: Score, dtype: float64\n"
     ]
    }
   ],
   "source": [
    "print(\"gemiddelde volledig %f\" % test.Score.mean())\n",
    "\n",
    "print(\"Gemiddelde per sessie\")\n",
    "meanSession = test.groupby([\"Session\"])[\"Score\"].mean().round(1)\n",
    "print(meanSession)"
   ]
  },
  {
   "cell_type": "markdown",
   "metadata": {},
   "source": [
    "2. Plot a bar graph of the average score per session with error bars denoting one standard deviation.\n",
    "   \n"
   ]
  },
  {
   "cell_type": "code",
   "execution_count": 38,
   "metadata": {},
   "outputs": [
    {
     "data": {
      "text/plain": [
       "<AxesSubplot:xlabel='Session', ylabel='Score'>"
      ]
     },
     "execution_count": 38,
     "metadata": {},
     "output_type": "execute_result"
    },
    {
     "data": {
      "image/png": "[encoded data removed]",
      "text/plain": [
       "<Figure size 432x288 with 1 Axes>"
      ]
     },
     "metadata": {
      "needs_background": "light"
     },
     "output_type": "display_data"
    }
   ],
   "source": [
    "sns.barplot(data=test, x='Session', y='Score', ci='sd')\n"
   ]
  },
  {
   "cell_type": "markdown",
   "metadata": {},
   "source": [
    "3. Make a box plot of the scores divided per group. Compare the sessions listed below. Do you think there is a significant difference between the results? Can we suspect that information has been passed on?\n",
    "    - A and B\n",
    "    - C, D and E\n",
    "    - F, G and H\n",
    "    - C and H\n",
    "    - A and H\n",
    "  \n"
   ]
  },
  {
   "cell_type": "code",
   "execution_count": 45,
   "metadata": {},
   "outputs": [],
   "source": [
    "A = np.array(test[test['Session']=='A']['Score'])\n",
    "B = np.array(test[test['Session']=='B']['Score'])\n",
    "C = np.array(test[test['Session']=='C']['Score'])\n",
    "D = np.array(test[test['Session']=='D']['Score'])\n",
    "E = np.array(test[test['Session']=='E']['Score'])\n",
    "F = np.array(test[test['Session']=='F']['Score'])\n",
    "G = np.array(test[test['Session']=='G']['Score'])\n",
    "H = np.array(test[test['Session']=='H']['Score'])\n"
   ]
  },
  {
   "cell_type": "code",
   "execution_count": 48,
   "metadata": {},
   "outputs": [
    {
     "data": {
      "text/plain": [
       "Ttest_indResult(statistic=-1.6541070146039145, pvalue=0.053557184014211265)"
      ]
     },
     "execution_count": 48,
     "metadata": {},
     "output_type": "execute_result"
    },
    {
     "data": {
      "image/png": "[encoded data removed]",
      "text/plain": [
       "<Figure size 432x288 with 1 Axes>"
      ]
     },
     "metadata": {
      "needs_background": "light"
     },
     "output_type": "display_data"
    }
   ],
   "source": [
    "AB = test[(test['Session']=='A') |( test['Session']=='B')]\n",
    "sns.barplot(data=AB, x='Session', y='Score', ci='sd')\n",
    "stats.ttest_ind(a=A, b=B, alternative='less', equal_var=False)"
   ]
  },
  {
   "cell_type": "code",
   "execution_count": 49,
   "metadata": {},
   "outputs": [
    {
     "name": "stdout",
     "output_type": "stream",
     "text": [
      "Ttest_indResult(statistic=-2.291650017323013, pvalue=0.013433158948369566)\n",
      "Ttest_indResult(statistic=-0.026319569162255155, pvalue=0.4895617224830012)\n",
      "Ttest_indResult(statistic=2.056999632486277, pvalue=0.9764416127601463)\n"
     ]
    },
    {
     "data": {
      "image/png": "[encoded data removed]",
      "text/plain": [
       "<Figure size 432x288 with 1 Axes>"
      ]
     },
     "metadata": {
      "needs_background": "light"
     },
     "output_type": "display_data"
    }
   ],
   "source": [
    "CDE = test[(test['Session']=='C') |( test['Session']=='D') |( test['Session']=='E')]\n",
    "sns.barplot(data=CDE, x='Session', y='Score', ci='sd')\n",
    "print(stats.ttest_ind(a=C, b=D, alternative='less', equal_var=False))\n",
    "print(stats.ttest_ind(a=C, b=E, alternative='less', equal_var=False))\n",
    "print(stats.ttest_ind(a=D, b=E, alternative='less', equal_var=False))"
   ]
  },
  {
   "cell_type": "code",
   "execution_count": 50,
   "metadata": {},
   "outputs": [
    {
     "name": "stdout",
     "output_type": "stream",
     "text": [
      "Ttest_indResult(statistic=-0.5932294025782213, pvalue=0.27782675032181703)\n",
      "Ttest_indResult(statistic=-1.6021549425300858, pvalue=0.057673501327015604)\n",
      "Ttest_indResult(statistic=-1.213542854334541, pvalue=0.11555943437549139)\n"
     ]
    },
    {
     "data": {
      "image/png": "[encoded data removed]",
      "text/plain": [
       "<Figure size 432x288 with 1 Axes>"
      ]
     },
     "metadata": {
      "needs_background": "light"
     },
     "output_type": "display_data"
    }
   ],
   "source": [
    "FGH = test[(test['Session']=='F') |( test['Session']=='G') |( test['Session']=='H')]\n",
    "sns.barplot(data=FGH, x='Session', y='Score', ci='sd')\n",
    "print(stats.ttest_ind(a=F, b=G, alternative='less', equal_var=False))\n",
    "print(stats.ttest_ind(a=F, b=H, alternative='less', equal_var=False))\n",
    "print(stats.ttest_ind(a=G, b=H, alternative='less', equal_var=False))"
   ]
  },
  {
   "cell_type": "code",
   "execution_count": 51,
   "metadata": {},
   "outputs": [
    {
     "data": {
      "text/plain": [
       "Ttest_indResult(statistic=-1.0634890645895432, pvalue=0.1463105697202284)"
      ]
     },
     "execution_count": 51,
     "metadata": {},
     "output_type": "execute_result"
    },
    {
     "data": {
      "image/png": "[encoded data removed]",
      "text/plain": [
       "<Figure size 432x288 with 1 Axes>"
      ]
     },
     "metadata": {
      "needs_background": "light"
     },
     "output_type": "display_data"
    }
   ],
   "source": [
    "CH = test[(test['Session']=='C') |( test['Session']=='H')]\n",
    "sns.barplot(data=CH, x='Session', y='Score', ci='sd')\n",
    "stats.ttest_ind(a=C, b=H, alternative='less', equal_var=False)"
   ]
  },
  {
   "cell_type": "code",
   "execution_count": 52,
   "metadata": {},
   "outputs": [
    {
     "data": {
      "text/plain": [
       "Ttest_indResult(statistic=-3.68689849737299, pvalue=0.00032887095672805235)"
      ]
     },
     "execution_count": 52,
     "metadata": {},
     "output_type": "execute_result"
    },
    {
     "data": {
      "image/png": "[encoded data removed]",
      "text/plain": [
       "<Figure size 432x288 with 1 Axes>"
      ]
     },
     "metadata": {
      "needs_background": "light"
     },
     "output_type": "display_data"
    }
   ],
   "source": [
    "AH = test[(test['Session']=='A') |( test['Session']=='H')]\n",
    "sns.barplot(data=AH, x='Session', y='Score', ci='sd')\n",
    "stats.ttest_ind(a=A, b=H, alternative='less', equal_var=False)"
   ]
  },
  {
   "cell_type": "markdown",
   "metadata": {},
   "source": [
    "4. Use an appropriate statistical test to determine whether the differences between the groups listed above are also *significant*. Can we conclude that the later groups score better or not?"
   ]
  },
  {
   "cell_type": "code",
   "execution_count": null,
   "metadata": {},
   "outputs": [],
   "source": [
    "#Zie p waardes bij vraag 3..."
   ]
  },
  {
   "cell_type": "markdown",
   "metadata": {},
   "source": [
    "### Answers\n",
    "\n",
    "The average score in each session was:\n",
    "\n",
    "| Session | Average score |\n",
    "| :-----: | :------------ |\n",
    "|    A    | 13.1          |\n",
    "|    B    | 17.2          |\n",
    "|    C    | 18.8          |\n",
    "|    D    | 22.5          |\n",
    "|    E    | 18.9          |\n",
    "|    F    | 17.8          |\n",
    "|    G    | 18.7          |\n",
    "|    H    | 20.9          |\n",
    "\n",
    "The table below shows the p-value of a one-sided t-test of two samples between the given sessions:\n",
    "\n",
    "| Alt. hypothesis                       | p-value   |\n",
    "| :------------------------------------ | :-------- |\n",
    "| $\\overline{x}_A - \\overline{x}_B < 0$ | 0.05356   |\n",
    "| $\\overline{x}_C - \\overline{x}_D < 0$ | 0.01343   |\n",
    "| $\\overline{x}_E - \\overline{x}_D < 0$ | 0.02356   |\n",
    "| $\\overline{x}_F - \\overline{x}_H < 0$ | 0.05767   |\n",
    "| $\\overline{x}_G - \\overline{x}_H < 0$ | 0.1156    |\n",
    "| $\\overline{x}_C - \\overline{x}_H < 0$ | 0.1463    |\n",
    "| $\\overline{x}_A - \\overline{x}_H < 0$ | 0.0003289 |\n",
    "\n",
    "Remarks:\n",
    "\n",
    "- The difference between **session A and B**, although it seems quite large, is insignificant for $\\alpha = 0.05$\n",
    "- **Sessions C, D and E**:\n",
    "  - Session D had the highest score. Sessions C and E had similar results, at least the average score was similar.\n",
    "  - Session D has a significantly higher score than either sessions C and E. However, session E came _after_ D, so the cause is definitely not the passing of information.\n",
    "- The differences between **sessions F, G and H** insignificant\n",
    "- **Sessions C and H** are respectively the first and the last session on the same campus. So, if there is an opportunity to pass on information about the test, there's definitely enough time between these two sessions. However, the difference is not significant!\n",
    "- The difference between **sessions A and H** are significant, but since they took place on different campuses, it is questionable that this difference is caused by passing on information."
   ]
  }
 ],
 "metadata": {
  "interpreter": {
   "hash": "03bb4e7251c2d6188de95ca7833c5337872a881c74d4eb95ec0d0135d9398a41"
  },
  "kernelspec": {
   "display_name": "Python 3.9.7 64-bit",
   "language": "python",
   "name": "python3"
  },
  "language_info": {
   "codemirror_mode": {
    "name": "ipython",
    "version": 3
   },
   "file_extension": ".py",
   "mimetype": "text/x-python",
   "name": "python",
   "nbconvert_exporter": "python",
   "pygments_lexer": "ipython3",
   "version": "3.9.7"
  },
  "orig_nbformat": 4
 },
 "nbformat": 4,
 "nbformat_minor": 2
}
