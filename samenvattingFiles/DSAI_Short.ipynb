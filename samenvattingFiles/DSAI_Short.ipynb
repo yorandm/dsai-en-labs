{
 "cells": [
  {
   "cell_type": "markdown",
   "metadata": {},
   "source": [
    "# Module 7: tijdserie\n",
    "\n",
    "- Eenvoudig voortschrijdend gemiddelde met periode 3  => begint pas na 3 eenheden en is zeer afgevlakt \n",
    "- Eenvoudig voortschrijdend gemiddelde met periode 12 => begint pas na 3 eenheden en is zeer afgevlakt \n",
    "- Enkelvoudige exponenti¨ele afvlakking met α = 0, 1 => is die met het gewicht is meer bij de oudere waarde\n",
    "- Enkelvoudige exponenti¨ele afvlakking met α = 0, 9 => Grafiek gaat gelijk lopen ongeveer met de effectieve waarde omdat hij meer recente ding meer gewicht geeft\n",
    "- simple exponential smoothing => geen trend + geen seasonal component\n",
    "- Dubbele exponenti¨ele afvlakking (methode van Holt) => trent + geen seasonal component\n",
    "- Driedubbele expoinentiele afvlakking => trent + seasonal component(methode van Holt-Winters) \n",
    "  - met additieve seizoenale schommelingen => tov trent is de diepte/dal even groot is\n",
    "  - met multiplicatieve => tov trent is de diepte/dal niet even groot, het gaat breder/smaller?"
   ]
  }
 ],
 "metadata": {
  "language_info": {
   "name": "python"
  },
  "orig_nbformat": 4
 },
 "nbformat": 4,
 "nbformat_minor": 2
}
