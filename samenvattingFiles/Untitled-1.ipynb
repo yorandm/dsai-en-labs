{
 "cells": [
  {
   "cell_type": "markdown",
   "metadata": {},
   "source": [
    "# Module 5: Analyse van Kwalitatieve vs kwantitatieve variabelen\n",
    "## Data visualisatie\n",
    "Chart types voor kwantitatieve data gegroepeerd per kwalitatieve data: Grouped boxplot, grouped density plot, bar chart MET ERROR BARS,...\n",
    "\n",
    "## Two sample t-test\n",
    "Is het gemiddelde van 2 steekproeven significant verschillend?\n",
    "\n",
    "### Onafhankelijke steekproeven \n",
    "met `stats.ttest_ind(a, b, alternative=\"less\", equel_var=False)`  \n",
    "idk  \n",
    "Voorbeeld: Een clinische studie waarbij een groep een placebo krijgt en eeen andere groep het medicijn. \n",
    "#### Test procedure\n",
    "1. Hypotheses (in voorbeeld):\n",
    "   1. $H_{0}: \\mu_{2}-\\mu_{2} = 0$\n",
    "   2. $H_{0}: \\mu_{2}-\\mu_{2} < 0$\n",
    "2. Significantie niveau: $\\alpha$ = 0.05\n",
    "3. Test statistiek:\n",
    "   1. $\\overline{x}-\\overline{y}= -12.833$\n",
    "   2. $\\overline{x} = estimation for \\mu_{1}$ (control groep)\n",
    "   3. $\\overline{y} = estimation for \\mu_{2}$ (intervention groep)\n",
    "4. p Berkenen\n",
    "5. conclusie\n",
    "\n",
    "## Afhankelijke steekproeven\n",
    "Bijvoorbeeld. Brandstof met toevoegingen lager verbruik of niet? 10 autos zonder toevoegingen en 10 met.\n",
    "`stats.ttest_rel(regular, additives, alternative='less')`\n",
    "#### Test procedure\n",
    "1. Hypotheses (voorbeeld):\\n\"\n",
    "   1. $H_{0}: \\overline{x-y} = 0$\n",
    "\n",
    "|-----------------|--------------|\n",
    "| 0.01            | Heel klein   |\n",
    "| 0.2             | Klein        |\n",
    "| 0.5             | Gemiddeld    |\n",
    "| 0.8             | Groot        |\n",
    "| 1.2             | Heel groot   |\n",
    "| 2.0             | Immens       |\n",
    "\n",
    "in educational science: 0.4 = tipping punt voor gewenst effect. d= 1: verwerken leermateriaal van 1y in 6 maand.\n",
    "### Typische aanpak in onderwijs onderzoek\n",
    "- Onderzoekvraag: is X een goede leermethode, heeft het dus positief effect\n",
    "- control groep gebruikt \"gebruikelijke\" methode\n",
    "- interventie groep gebruikt x\n",
    "- evaluatiemomenten\n",
    "- punten bepalen en d berekenen"
   ]
  }
 ],
 "metadata": {
  "interpreter": {
   "hash": "ad2bdc8ecc057115af97d19610ffacc2b4e99fae6737bb82f5d7fb13d2f2c186"
  },
  "kernelspec": {
   "display_name": "Python 3.8.3 ('base')",
   "language": "python",
   "name": "python3"
  },
  "language_info": {
   "name": "python",
   "version": "3.8.3"
  },
  "orig_nbformat": 4
 },
 "nbformat": 4,
 "nbformat_minor": 2
}
