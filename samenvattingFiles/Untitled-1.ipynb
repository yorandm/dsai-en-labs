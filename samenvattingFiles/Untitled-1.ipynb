{
 "cells": [
  {
   "cell_type": "markdown",
   "metadata": {},
   "source": [
    "## Goodness-of-fit test\n",
    "De $\\chi^2$ test kan ook gebruikt worden voor bepalen van representatieviteit van een steekproef voor de populatie.  \n",
    "De goodness-of-fit test indiceert in welke mate een steekproef overeenkomt met de null hypothese met betrekking tot de verdeling van een kwalitatieve var over meerdere exclusieve klassen.  \n",
    "Als $\\chi^2$  klein is dan is het representatief en anders niet. $\\chi^2$ meet tot welke mate er conflict is met de null hypothese\n",
    "\n",
    "## Gestandardiseerde residuen\n",
    "Indiceert welke klassen de meeste bijdragen bieden tot de waarde van $\\chi^2$\n",
    "  \n",
    "$r_{i} = \\frac{o_{i}-n\\pi_{i}}{\\sqrt{n\\pi_{i}(1-\\pi_{i})}}$\n",
    "\n",
    "- $r_{i} \\in [-2,2]$ Acceptabel \n",
    "- $r_{i}$ < -2 = onder vertegenwordigd\n",
    "- $r_{i}$ > 2 = over vertegenwoordigd\n",
    "\n",
    "## Cochran's rules\n",
    "Om $\\chi^2$ test te kunnen toepassen moeten de volgende regels voldaan zijn:\n",
    "1. Van alle categorieen moet de verwachte frequentie e hoger zijn dan 1\n",
    "2. In maximum 20% van de categorieen is de verwachte frequentie e kleiner dan 5\n",
    "   "
   ]
  }
 ],
 "metadata": {
  "interpreter": {
   "hash": "ad2bdc8ecc057115af97d19610ffacc2b4e99fae6737bb82f5d7fb13d2f2c186"
  },
  "kernelspec": {
   "display_name": "Python 3.8.3 ('base')",
   "language": "python",
   "name": "python3"
  },
  "language_info": {
   "name": "python",
   "version": "3.8.3"
  },
  "orig_nbformat": 4
 },
 "nbformat": 4,
 "nbformat_minor": 2
}
