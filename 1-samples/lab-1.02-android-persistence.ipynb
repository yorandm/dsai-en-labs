{
 "cells": [
  {
   "cell_type": "markdown",
   "metadata": {},
   "source": [
    "# Lab 1.02 - Android Persistence\n",
    "\n",
    "Import all necessary Python libraries and create a variable `android_persistence` to load the dataset [android_persistence_cpu.csv](https://github.com/HoGentTIN/dsai-en-labs/blob/main/data/android_persistence_cpu.csv). See the [code book](https://github.com/HoGentTIN/dsai-en-labs/blob/main/data/android_persistence_cpu.md) for more info on the contents. Note this file is not stored as a regular CSV file! You may need to tweak the parameters of the import function to load the file correctly."
   ]
  },
  {
   "cell_type": "code",
   "execution_count": 1,
   "metadata": {},
   "outputs": [],
   "source": [
    "#imports\n",
    "import numpy as np                                  # \"Scientific computing\"\n",
    "import scipy.stats as stats                         # Statistical tests\n",
    "\n",
    "import pandas as pd                                 # Data Frame\n",
    "from pandas.api.types import CategoricalDtype\n",
    "\n",
    "import matplotlib.pyplot as plt                     # Basic visualisation\n",
    "from statsmodels.graphics.mosaicplot import mosaic  # Mosaic diagram\n",
    "import seaborn as sns                               # Advanced data visualisation\n",
    "import altair as alt                                # Alternative visualisation system"
   ]
  },
  {
   "cell_type": "markdown",
   "metadata": {},
   "source": [
    "Explore the dataset:\n",
    "\n",
    "- How many variables and observations are present in the dataset?\n",
    "- What is the level of measurement of each variable?\n",
    "- Perform the conversion of the qualitative variables to the appropriate type (and specify the order of ordinal variables).\n",
    "- List the data types in the dataset."
   ]
  },
  {
   "cell_type": "code",
   "execution_count": 16,
   "metadata": {},
   "outputs": [
    {
     "data": {
      "text/html": [
       "<div>\n",
       "<style scoped>\n",
       "    .dataframe tbody tr th:only-of-type {\n",
       "        vertical-align: middle;\n",
       "    }\n",
       "\n",
       "    .dataframe tbody tr th {\n",
       "        vertical-align: top;\n",
       "    }\n",
       "\n",
       "    .dataframe thead th {\n",
       "        text-align: right;\n",
       "    }\n",
       "</style>\n",
       "<table border=\"1\" class=\"dataframe\">\n",
       "  <thead>\n",
       "    <tr style=\"text-align: right;\">\n",
       "      <th></th>\n",
       "      <th>Time</th>\n",
       "      <th>PersistenceType</th>\n",
       "      <th>DataSize</th>\n",
       "    </tr>\n",
       "  </thead>\n",
       "  <tbody>\n",
       "    <tr>\n",
       "      <th>0</th>\n",
       "      <td>1.81</td>\n",
       "      <td>Sharedpreferences</td>\n",
       "      <td>Small</td>\n",
       "    </tr>\n",
       "    <tr>\n",
       "      <th>1</th>\n",
       "      <td>1.35</td>\n",
       "      <td>Sharedpreferences</td>\n",
       "      <td>Small</td>\n",
       "    </tr>\n",
       "    <tr>\n",
       "      <th>2</th>\n",
       "      <td>1.84</td>\n",
       "      <td>Sharedpreferences</td>\n",
       "      <td>Small</td>\n",
       "    </tr>\n",
       "    <tr>\n",
       "      <th>3</th>\n",
       "      <td>1.54</td>\n",
       "      <td>Sharedpreferences</td>\n",
       "      <td>Small</td>\n",
       "    </tr>\n",
       "    <tr>\n",
       "      <th>4</th>\n",
       "      <td>1.81</td>\n",
       "      <td>Sharedpreferences</td>\n",
       "      <td>Small</td>\n",
       "    </tr>\n",
       "  </tbody>\n",
       "</table>\n",
       "</div>"
      ],
      "text/plain": [
       "   Time    PersistenceType DataSize\n",
       "0  1.81  Sharedpreferences    Small\n",
       "1  1.35  Sharedpreferences    Small\n",
       "2  1.84  Sharedpreferences    Small\n",
       "3  1.54  Sharedpreferences    Small\n",
       "4  1.81  Sharedpreferences    Small"
      ]
     },
     "execution_count": 16,
     "metadata": {},
     "output_type": "execute_result"
    }
   ],
   "source": [
    "android_persistence = pd.read_csv(\"../data/android_persistence_cpu.csv\", delimiter=';')\n",
    "android_persistence.head()\n"
   ]
  },
  {
   "cell_type": "code",
   "execution_count": 21,
   "metadata": {},
   "outputs": [
    {
     "data": {
      "text/plain": [
       "0      Sharedpreferences\n",
       "1      Sharedpreferences\n",
       "2      Sharedpreferences\n",
       "3      Sharedpreferences\n",
       "4      Sharedpreferences\n",
       "             ...        \n",
       "295                Realm\n",
       "296                Realm\n",
       "297                Realm\n",
       "298                Realm\n",
       "299                Realm\n",
       "Name: PersistenceType, Length: 300, dtype: category\n",
       "Categories (4, object): ['GreenDAO', 'Realm', 'SQLLite', 'Sharedpreferences']"
      ]
     },
     "execution_count": 21,
     "metadata": {},
     "output_type": "execute_result"
    }
   ],
   "source": [
    "android_persistence.DataSize = android_persistence.DataSize.astype('category')\n",
    "android_persistence.PersistenceType = android_persistence.PersistenceType.astype('category')\n",
    "android_persistence.PersistenceType"
   ]
  },
  {
   "cell_type": "code",
   "execution_count": 18,
   "metadata": {},
   "outputs": [
    {
     "data": {
      "text/plain": [
       "Time                float64\n",
       "PersistenceType    category\n",
       "DataSize           category\n",
       "dtype: object"
      ]
     },
     "execution_count": 18,
     "metadata": {},
     "output_type": "execute_result"
    }
   ],
   "source": [
    "android_persistence.dtypes"
   ]
  },
  {
   "cell_type": "markdown",
   "metadata": {},
   "source": [
    "Describe each variable."
   ]
  },
  {
   "cell_type": "code",
   "execution_count": 24,
   "metadata": {},
   "outputs": [
    {
     "name": "stdout",
     "output_type": "stream",
     "text": [
      "count    300.000000\n",
      "mean       6.230833\n",
      "std        4.229599\n",
      "min        1.090000\n",
      "25%        1.790000\n",
      "50%        6.185000\n",
      "75%       10.662500\n",
      "max       13.560000\n",
      "Name: Time, dtype: float64\n",
      "count          300\n",
      "unique           4\n",
      "top       GreenDAO\n",
      "freq            90\n",
      "Name: PersistenceType, dtype: object\n",
      "count       300\n",
      "unique        3\n",
      "top       Small\n",
      "freq        120\n",
      "Name: DataSize, dtype: object\n"
     ]
    }
   ],
   "source": [
    "print(android_persistence.Time.describe())\n",
    "print(android_persistence.PersistenceType.describe())\n",
    "print(android_persistence.DataSize.describe())"
   ]
  },
  {
   "cell_type": "markdown",
   "metadata": {},
   "source": [
    "What unique values are there for the variables `PersistenceType` and `DataSize`? How often does each value occur?"
   ]
  },
  {
   "cell_type": "code",
   "execution_count": 25,
   "metadata": {},
   "outputs": [
    {
     "name": "stdout",
     "output_type": "stream",
     "text": [
      "['Sharedpreferences', 'GreenDAO', 'SQLLite', 'Realm']\n",
      "Categories (4, object): ['GreenDAO', 'Realm', 'SQLLite', 'Sharedpreferences']\n",
      "['Small', 'Medium', 'Large']\n",
      "Categories (3, object): ['Large', 'Medium', 'Small']\n",
      "GreenDAO             90\n",
      "Realm                90\n",
      "SQLLite              90\n",
      "Sharedpreferences    30\n",
      "Name: PersistenceType, dtype: int64\n",
      "Small     120\n",
      "Large      90\n",
      "Medium     90\n",
      "Name: DataSize, dtype: int64\n"
     ]
    }
   ],
   "source": [
    "print(android_persistence[\"PersistenceType\"].unique())\n",
    "print(android_persistence[\"DataSize\"].unique())\n",
    "print(android_persistence[\"PersistenceType\"].value_counts())\n",
    "print(android_persistence[\"DataSize\"].value_counts())"
   ]
  },
  {
   "cell_type": "markdown",
   "metadata": {},
   "source": [
    "In this dataset, it is especially interesting to know how often each unique combination of `PersistenceType` and `DataSize` occurs. Figure out how to use the Pandas function `crosstab()` to create a so-called contingency table for these variables. By the way, this concept will return in Module 4 (examining the relationship between 2 qualitative variables)."
   ]
  },
  {
   "cell_type": "code",
   "execution_count": 27,
   "metadata": {},
   "outputs": [
    {
     "ename": "AssertionError",
     "evalue": "arrays and names must have the same length",
     "output_type": "error",
     "traceback": [
      "\u001b[1;31m---------------------------------------------------------------------------\u001b[0m",
      "\u001b[1;31mAssertionError\u001b[0m                            Traceback (most recent call last)",
      "\u001b[1;32mg:\\Mijn Drive\\School_HoGent\\TI2_2\\datascienceZonderAI\\oef\\dsai-en-labs\\1-samples\\lab-1.02-android-persistence.ipynb Cell 12'\u001b[0m in \u001b[0;36m<cell line: 1>\u001b[1;34m()\u001b[0m\n\u001b[1;32m----> <a href='vscode-notebook-cell:/g%3A/Mijn%20Drive/School_HoGent/TI2_2/datascienceZonderAI/oef/dsai-en-labs/1-samples/lab-1.02-android-persistence.ipynb#ch0000009?line=0'>1</a>\u001b[0m pd\u001b[39m.\u001b[39;49mcrosstab(android_persistence\u001b[39m.\u001b[39;49mTime,[\u001b[39m'\u001b[39;49m\u001b[39mPersistenceType\u001b[39;49m\u001b[39m'\u001b[39;49m, \u001b[39m'\u001b[39;49m\u001b[39mDataSize\u001b[39;49m\u001b[39m'\u001b[39;49m], rownames\u001b[39m=\u001b[39;49m[\u001b[39m\"\u001b[39;49m\u001b[39mtime\u001b[39;49m\u001b[39m\"\u001b[39;49m], colnames\u001b[39m=\u001b[39;49m[\u001b[39m'\u001b[39;49m\u001b[39mPersistenceType\u001b[39;49m\u001b[39m'\u001b[39;49m, \u001b[39m'\u001b[39;49m\u001b[39mDataSize\u001b[39;49m\u001b[39m'\u001b[39;49m])\n",
      "File \u001b[1;32mc:\\Users\\yoran\\AppData\\Local\\Programs\\Python\\Python39\\lib\\site-packages\\pandas\\core\\reshape\\pivot.py:645\u001b[0m, in \u001b[0;36mcrosstab\u001b[1;34m(index, columns, values, rownames, colnames, aggfunc, margins, margins_name, dropna, normalize)\u001b[0m\n\u001b[0;32m    <a href='file:///c%3A/Users/yoran/AppData/Local/Programs/Python/Python39/lib/site-packages/pandas/core/reshape/pivot.py?line=641'>642</a>\u001b[0m     common_idx \u001b[39m=\u001b[39m get_objs_combined_axis(pass_objs, intersect\u001b[39m=\u001b[39m\u001b[39mTrue\u001b[39;00m, sort\u001b[39m=\u001b[39m\u001b[39mFalse\u001b[39;00m)\n\u001b[0;32m    <a href='file:///c%3A/Users/yoran/AppData/Local/Programs/Python/Python39/lib/site-packages/pandas/core/reshape/pivot.py?line=643'>644</a>\u001b[0m rownames \u001b[39m=\u001b[39m _get_names(index, rownames, prefix\u001b[39m=\u001b[39m\u001b[39m\"\u001b[39m\u001b[39mrow\u001b[39m\u001b[39m\"\u001b[39m)\n\u001b[1;32m--> <a href='file:///c%3A/Users/yoran/AppData/Local/Programs/Python/Python39/lib/site-packages/pandas/core/reshape/pivot.py?line=644'>645</a>\u001b[0m colnames \u001b[39m=\u001b[39m _get_names(columns, colnames, prefix\u001b[39m=\u001b[39;49m\u001b[39m\"\u001b[39;49m\u001b[39mcol\u001b[39;49m\u001b[39m\"\u001b[39;49m)\n\u001b[0;32m    <a href='file:///c%3A/Users/yoran/AppData/Local/Programs/Python/Python39/lib/site-packages/pandas/core/reshape/pivot.py?line=646'>647</a>\u001b[0m \u001b[39m# duplicate names mapped to unique names for pivot op\u001b[39;00m\n\u001b[0;32m    <a href='file:///c%3A/Users/yoran/AppData/Local/Programs/Python/Python39/lib/site-packages/pandas/core/reshape/pivot.py?line=647'>648</a>\u001b[0m (\n\u001b[0;32m    <a href='file:///c%3A/Users/yoran/AppData/Local/Programs/Python/Python39/lib/site-packages/pandas/core/reshape/pivot.py?line=648'>649</a>\u001b[0m     rownames_mapper,\n\u001b[0;32m    <a href='file:///c%3A/Users/yoran/AppData/Local/Programs/Python/Python39/lib/site-packages/pandas/core/reshape/pivot.py?line=649'>650</a>\u001b[0m     unique_rownames,\n\u001b[0;32m    <a href='file:///c%3A/Users/yoran/AppData/Local/Programs/Python/Python39/lib/site-packages/pandas/core/reshape/pivot.py?line=650'>651</a>\u001b[0m     colnames_mapper,\n\u001b[0;32m    <a href='file:///c%3A/Users/yoran/AppData/Local/Programs/Python/Python39/lib/site-packages/pandas/core/reshape/pivot.py?line=651'>652</a>\u001b[0m     unique_colnames,\n\u001b[0;32m    <a href='file:///c%3A/Users/yoran/AppData/Local/Programs/Python/Python39/lib/site-packages/pandas/core/reshape/pivot.py?line=652'>653</a>\u001b[0m ) \u001b[39m=\u001b[39m _build_names_mapper(rownames, colnames)\n",
      "File \u001b[1;32mc:\\Users\\yoran\\AppData\\Local\\Programs\\Python\\Python39\\lib\\site-packages\\pandas\\core\\reshape\\pivot.py:784\u001b[0m, in \u001b[0;36m_get_names\u001b[1;34m(arrs, names, prefix)\u001b[0m\n\u001b[0;32m    <a href='file:///c%3A/Users/yoran/AppData/Local/Programs/Python/Python39/lib/site-packages/pandas/core/reshape/pivot.py?line=781'>782</a>\u001b[0m \u001b[39melse\u001b[39;00m:\n\u001b[0;32m    <a href='file:///c%3A/Users/yoran/AppData/Local/Programs/Python/Python39/lib/site-packages/pandas/core/reshape/pivot.py?line=782'>783</a>\u001b[0m     \u001b[39mif\u001b[39;00m \u001b[39mlen\u001b[39m(names) \u001b[39m!=\u001b[39m \u001b[39mlen\u001b[39m(arrs):\n\u001b[1;32m--> <a href='file:///c%3A/Users/yoran/AppData/Local/Programs/Python/Python39/lib/site-packages/pandas/core/reshape/pivot.py?line=783'>784</a>\u001b[0m         \u001b[39mraise\u001b[39;00m \u001b[39mAssertionError\u001b[39;00m(\u001b[39m\"\u001b[39m\u001b[39marrays and names must have the same length\u001b[39m\u001b[39m\"\u001b[39m)\n\u001b[0;32m    <a href='file:///c%3A/Users/yoran/AppData/Local/Programs/Python/Python39/lib/site-packages/pandas/core/reshape/pivot.py?line=784'>785</a>\u001b[0m     \u001b[39mif\u001b[39;00m \u001b[39mnot\u001b[39;00m \u001b[39misinstance\u001b[39m(names, \u001b[39mlist\u001b[39m):\n\u001b[0;32m    <a href='file:///c%3A/Users/yoran/AppData/Local/Programs/Python/Python39/lib/site-packages/pandas/core/reshape/pivot.py?line=785'>786</a>\u001b[0m         names \u001b[39m=\u001b[39m \u001b[39mlist\u001b[39m(names)\n",
      "\u001b[1;31mAssertionError\u001b[0m: arrays and names must have the same length"
     ]
    }
   ],
   "source": []
  }
 ],
 "metadata": {
  "interpreter": {
   "hash": "03bb4e7251c2d6188de95ca7833c5337872a881c74d4eb95ec0d0135d9398a41"
  },
  "kernelspec": {
   "display_name": "Python 3.9.7 64-bit",
   "language": "python",
   "name": "python3"
  },
  "language_info": {
   "codemirror_mode": {
    "name": "ipython",
    "version": 3
   },
   "file_extension": ".py",
   "mimetype": "text/x-python",
   "name": "python",
   "nbconvert_exporter": "python",
   "pygments_lexer": "ipython3",
   "version": "3.9.7"
  },
  "orig_nbformat": 4
 },
 "nbformat": 4,
 "nbformat_minor": 2
}
