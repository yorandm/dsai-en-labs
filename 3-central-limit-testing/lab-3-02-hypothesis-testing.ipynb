{
 "cells": [
  {
   "cell_type": "code",
   "execution_count": 1,
   "metadata": {},
   "outputs": [],
   "source": [
    "# Importing the necessary packages\n",
    "import numpy as np                                  # \"Scientific computing\"\n",
    "import scipy.stats as stats                         # Statistical tests\n",
    "\n",
    "import pandas as pd                                 # Data Frame\n",
    "from pandas.api.types import CategoricalDtype\n",
    "\n",
    "import matplotlib.pyplot as plt                     # Basic visualisation\n",
    "from statsmodels.graphics.mosaicplot import mosaic  # Mosaic diagram\n",
    "import seaborn as sns                               # Advanced data visualisation\n",
    "import math"
   ]
  },
  {
   "cell_type": "markdown",
   "metadata": {},
   "source": [
    "# Lab 3.02 - Statistical hypothesis testing\n",
    "\n",
    "## Exercise 1 - Binding recommendation on continuation of studies \n",
    "\n",
    "It is being said that introducing a “binding recommendation on continuation of studies” (refusing enrollment in the next academic year if a student did not complete a certain level of credits, NL: \"bindend studie-advies, BSA\") has a positive effect on the study efficiency and success rate. Before the introduction of binding recommendations, the number of completed credits per student per year was 44 with a standard deviation of 6.2. After the introduction, a sample of 72 random students has an average number of completed credits of 46.2.\n",
    "\n",
    "1. Test whether there is evidence that the introduction of binding recommendations has improved the success rate among students. Calculate the critical value for a significance level of $\\alpha = 2.5\\%$.\n",
    "2. Do the same by calculating the $p$-value.\n",
    "3. Interpret the meaning of $\\alpha$ being 2.5%."
   ]
  },
  {
   "cell_type": "code",
   "execution_count": 32,
   "metadata": {},
   "outputs": [
    {
     "data": {
      "text/plain": [
       "<matplotlib.lines.Line2D at 0x25840c20910>"
      ]
     },
     "execution_count": 32,
     "metadata": {},
     "output_type": "execute_result"
    },
    {
     "data": {
      "image/png": "[encoded data removed]",
      "text/plain": [
       "<Figure size 432x288 with 1 Axes>"
      ]
     },
     "metadata": {
      "needs_background": "light"
     },
     "output_type": "display_data"
    }
   ],
   "source": [
    "m = 44 \n",
    "s = 6.2\n",
    "n = 72\n",
    "m_intro = 46.2\n",
    "s_intro = s/math.sqrt(n)\n",
    "a = 0.025\n",
    "\n",
    "#x waardes\n",
    "dist_x = np.linspace(m-4*s_intro,m+4*s_intro, num=201)\n",
    "#y waardes voor gaussssss\n",
    "dist_y = stats.norm.pdf(dist_x, m, s_intro)\n",
    "#tekenen!\n",
    "plt.plot(dist_x, dist_y)\n",
    "\n",
    "plt.fill_between(dist_x, 0, dist_y, where=(dist_x>=m_intro), color='red')\n",
    "\n",
    "plt.axvline(m_intro, color=\"green\")"
   ]
  },
  {
   "cell_type": "code",
   "execution_count": 31,
   "metadata": {},
   "outputs": [
    {
     "name": "stdout",
     "output_type": "stream",
     "text": [
      "p waarde: 0.0013\n",
      "p < a: reject H0\n",
      "Critical value g ≃ 45.432\n",
      "sample mean = 46.200 > g = 45.432: reject H0\n"
     ]
    }
   ],
   "source": [
    "p_waarde = stats.norm.sf(m_intro, loc=m, scale=s_intro)\n",
    "print(\"p waarde: %.4f\"%p_waarde) \n",
    "if(p_waarde < a):\n",
    "    print(\"p < a: reject H0\")\n",
    "else:\n",
    "    print(\"p > a: do not reject H0\")\n",
    "    \n",
    "g_value = stats.norm.isf(0.025, loc = m, scale= s_intro) \n",
    "print(\"Critical value g ≃ %.3f\" % g_value)\n",
    "if (m_intro < g_value):\n",
    "    print(\"sample mean = %.3f < g = %.3f: do not reject H0\" % (m_intro, g_value))\n",
    "else:\n",
    "    print(\"sample mean = %.3f > g = %.3f: reject H0\" % (m_intro, g_value))"
   ]
  },
  {
   "cell_type": "markdown",
   "metadata": {},
   "source": [
    "\n",
    "### Answers\n",
    "\n",
    "1. $g \\approx 45.4 < x = 46.2$.\n",
    "\n",
    "    $x$ is inside the critical region, so we can reject the null hypothesis. Therefore, we can assume that binding recommendation on continuation of studies does increase the success rate.\n",
    "\n",
    "2. $P(M > 46.2) \\approx 0.0013 < \\alpha = 0.025$. The probability value is smaller than the significance level, so we can reject the null hypothesis.\n",
    "3. $\\alpha$ represents the probability of rejecting a true null hypothesis $H_0$. In other words, there is a 2.5% chance that you wrongly conclude that the success rate has increased."
   ]
  },
  {
   "cell_type": "markdown",
   "metadata": {},
   "source": [
    "\n",
    "## Exercise 2 - Car dealers\n",
    "\n",
    "One of the motives for choosing a car dealership is the resale value of the previous car, or more specifically the price a dealer wants to pay for the old car when the customer buys a new one. The importer of Ford wants that all dealers implement the same price policy.\n",
    "\n",
    "The importer is of the opinion that the average price difference between the closest Ford dealer and the dealer where the old car was purchased should be at most €300. It is assumed that, if the difference is larger, potential customers will be more inclined to stay with their previous\n",
    "dealer.\n",
    "\n",
    "In a random sample, the following price differences are recorded:\n",
    "\n",
    "```\n",
    "[400, 350, 400, 500, 300, 350, 200,\n",
    " 500, 200, 250, 250, 500, 350, 100]\n",
    "```\n",
    "\n",
    "Test whether there is reason to assume that the average price difference in reality is significantly greater than €300, using a significance level of 5%."
   ]
  },
  {
   "cell_type": "code",
   "execution_count": 36,
   "metadata": {},
   "outputs": [
    {
     "name": "stdout",
     "output_type": "stream",
     "text": [
      "mean is 332.14285714285717\n",
      "std is 123.4241325005628\n",
      "p:value 0.17381\n",
      "p>a: niet reject H0\n",
      "critiek g ong= 358.417\n",
      "sample mean = 332.143 < g = 358.417: do not reject H0\n"
     ]
    },
    {
     "data": {
      "image/png": "[encoded data removed]",
      "text/plain": [
       "<Figure size 432x288 with 1 Axes>"
      ]
     },
     "metadata": {
      "needs_background": "light"
     },
     "output_type": "display_data"
    }
   ],
   "source": [
    "#H0: dat het niet significant groter is\n",
    "prijs= [400, 350, 400, 500, 300, 350, 200,\n",
    " 500, 200, 250, 250, 500, 350, 100] #is gwn dataset steekproef\n",
    "m = 300 #mag ni significant groetr zijn dan\n",
    "a=0.05 #significantieniveau\n",
    "n = len(prijs)  #lengte sample\n",
    "m_samp = np.mean(prijs) #gemiddelde samp\n",
    "s= np.std(prijs, ddof=1) #std samp\n",
    "sn = s/math.sqrt(n) #s/wortel(n)\n",
    "\n",
    "print(f\"mean is {m_samp}\")\n",
    "print(f\"std is {s}\")\n",
    "\n",
    "#tekenen\n",
    "dist_x = np.linspace(m-4*sn,m+4*sn, num=201)\n",
    "dist_y = stats.t.pdf(dist_x, loc=m, scale=sn, df=n-1)\n",
    "plt.plot(dist_x, dist_y)\n",
    "#aanduiden welk deel \"oke\" is voor H0\n",
    "plt.fill_between(dist_x, 0, dist_y, where=(dist_x<=m_samp), color='yellow')\n",
    "plt.axvline(m_samp, color=\"blue\")\n",
    "\n",
    "#p waarde\n",
    "p = stats.t.sf(m_samp, loc=m, scale = sn, df = n-1)\n",
    "print(\"p:value %.5f\"% p)\n",
    "if(p<a):\n",
    "  print(\"p<a:rejectH0\")\n",
    "else:\n",
    "  print(\"p>a: niet reject H0\")\n",
    "\n",
    "#kritieke waarde (g)\n",
    "g = stats.t.isf(a, loc=m, scale=sn, df=n-1)\n",
    "print('critiek g ong= %.3f' % g)\n",
    "if (m_samp < g):\n",
    "    print(\"sample mean = %.3f < g = %.3f: do not reject H0\" % (m_samp, g))\n",
    "else:\n",
    "    print(\"sample mean = %.3f > g = %.3f: reject H0\" % (m_samp, g))"
   ]
  },
  {
   "cell_type": "markdown",
   "metadata": {},
   "source": [
    "### Answers\n",
    "\n",
    "In this context ($n = 14 < 30$) the $z$-test cannot be used. Instead, we use Student’s $t$-test.\n",
    "\n",
    "- $x \\approx 332.143$\n",
    "- $s \\approx 123.424$\n",
    "- $g \\approx 358.42$. The sample mean is outside of the critical region, so we cannot reject $H_0$.\n",
    "- $p \\approx 0.1738$. $p \\nless \\alpha$ , so we cannot reject $H_0$. Based on this sample there is no reason to assume that the average price difference on the residual value of old cars is significantly higher than the amount recommended by the importer."
   ]
  },
  {
   "cell_type": "markdown",
   "metadata": {},
   "source": [
    "## Exercise 3 - rlanders.csv, revisited\n",
    "\n",
    "The variable *Money* represents a gross annual salary (×100\\\\$). We assume this variable has a mean of $\\mu = 500$ with standard deviation $\\sigma = 98$. If we calculate the sample mean over the entire dataset (do this yourself!), it seems to support our assumptions. But what if we looked at\n",
    "men and women separately (variable *Gender*)?\n",
    "\n",
    "First, visualise this case by plotting a kernel density estimate of the variable *Money* over the entire dataset and split up according to *Gender*. Draw a vertical line for the assumed population mean and sample means.\n",
    "\n",
    "Use an appropriate statistical test to verify the statements below, usinge a significance level of $\\alpha = 5\\%$. For each statement, calculate the critical value(s) and the $p$-value.\n",
    "\n",
    "1. The average gross annual salary of men seems higher than the average. Is it also significantly higher?\n",
    "2. The average gross annual salary of women seems lower. Is it significantly lower?\n",
    "3. Calculate the region of acceptance for the average gross annual salary for the sample (men and women combined). In this case we want to verify if the sample mean is significantly different from the expected value, but it can be lower or higher.\n"
   ]
  },
  {
   "cell_type": "code",
   "execution_count": 39,
   "metadata": {},
   "outputs": [
    {
     "data": {
      "text/html": [
       "<div>\n",
       "<style scoped>\n",
       "    .dataframe tbody tr th:only-of-type {\n",
       "        vertical-align: middle;\n",
       "    }\n",
       "\n",
       "    .dataframe tbody tr th {\n",
       "        vertical-align: top;\n",
       "    }\n",
       "\n",
       "    .dataframe thead th {\n",
       "        text-align: right;\n",
       "    }\n",
       "</style>\n",
       "<table border=\"1\" class=\"dataframe\">\n",
       "  <thead>\n",
       "    <tr style=\"text-align: right;\">\n",
       "      <th></th>\n",
       "      <th>Gender</th>\n",
       "      <th>Money</th>\n",
       "      <th>Days</th>\n",
       "      <th>Months</th>\n",
       "      <th>Count</th>\n",
       "      <th>Survey</th>\n",
       "    </tr>\n",
       "    <tr>\n",
       "      <th>ID</th>\n",
       "      <th></th>\n",
       "      <th></th>\n",
       "      <th></th>\n",
       "      <th></th>\n",
       "      <th></th>\n",
       "      <th></th>\n",
       "    </tr>\n",
       "  </thead>\n",
       "  <tbody>\n",
       "    <tr>\n",
       "      <th>1</th>\n",
       "      <td>Female</td>\n",
       "      <td>440</td>\n",
       "      <td>29</td>\n",
       "      <td>11</td>\n",
       "      <td>35</td>\n",
       "      <td>3</td>\n",
       "    </tr>\n",
       "    <tr>\n",
       "      <th>2</th>\n",
       "      <td>Female</td>\n",
       "      <td>503</td>\n",
       "      <td>23</td>\n",
       "      <td>10</td>\n",
       "      <td>52</td>\n",
       "      <td>3</td>\n",
       "    </tr>\n",
       "    <tr>\n",
       "      <th>3</th>\n",
       "      <td>Male</td>\n",
       "      <td>412</td>\n",
       "      <td>16</td>\n",
       "      <td>11</td>\n",
       "      <td>55</td>\n",
       "      <td>3</td>\n",
       "    </tr>\n",
       "    <tr>\n",
       "      <th>4</th>\n",
       "      <td>Male</td>\n",
       "      <td>587</td>\n",
       "      <td>25</td>\n",
       "      <td>9</td>\n",
       "      <td>28</td>\n",
       "      <td>5</td>\n",
       "    </tr>\n",
       "    <tr>\n",
       "      <th>5</th>\n",
       "      <td>Male</td>\n",
       "      <td>525</td>\n",
       "      <td>30</td>\n",
       "      <td>11</td>\n",
       "      <td>41</td>\n",
       "      <td>4</td>\n",
       "    </tr>\n",
       "  </tbody>\n",
       "</table>\n",
       "</div>"
      ],
      "text/plain": [
       "    Gender  Money  Days  Months  Count  Survey\n",
       "ID                                            \n",
       "1   Female    440    29      11     35       3\n",
       "2   Female    503    23      10     52       3\n",
       "3     Male    412    16      11     55       3\n",
       "4     Male    587    25       9     28       5\n",
       "5     Male    525    30      11     41       4"
      ]
     },
     "execution_count": 39,
     "metadata": {},
     "output_type": "execute_result"
    }
   ],
   "source": [
    "rlanders = pd.read_csv('https://raw.githubusercontent.com/HoGentTIN/dsai-en-labs/main/data/rlanders.csv').set_index(['ID'])\n",
    "# Show the first few records of the Data Frame\n",
    "rlanders.head()\n"
   ]
  },
  {
   "cell_type": "code",
   "execution_count": 40,
   "metadata": {},
   "outputs": [
    {
     "name": "stdout",
     "output_type": "stream",
     "text": [
      "n = 250\n",
      "m_sample = 500.156\n",
      "s_sample = 103.05570131873922\n"
     ]
    },
    {
     "data": {
      "text/plain": [
       "<matplotlib.lines.Line2D at 0x25840ecda00>"
      ]
     },
     "execution_count": 40,
     "metadata": {},
     "output_type": "execute_result"
    },
    {
     "data": {
      "image/png": "[encoded data removed]",
      "text/plain": [
       "<Figure size 432x288 with 1 Axes>"
      ]
     },
     "metadata": {
      "needs_background": "light"
     },
     "output_type": "display_data"
    }
   ],
   "source": [
    "m = 500\n",
    "s = 98\n",
    "a = 0.05\n",
    "n = rlanders[\"Money\"].count()\n",
    "m_sample = rlanders[\"Money\"].mean()\n",
    "s_sample = rlanders[\"Money\"].std()\n",
    "print(f\"n = {n}\")\n",
    "print(f\"m_sample = {m_sample}\")\n",
    "print(f\"s_sample = {s_sample}\")\n",
    "sns.kdeplot(data= rlanders, x=\"Money\")\n",
    "plt.axvline(m, color=\"orange\")\n",
    "plt.axvline(m_sample, color=\"green\")\n"
   ]
  },
  {
   "cell_type": "code",
   "execution_count": 41,
   "metadata": {},
   "outputs": [
    {
     "name": "stdout",
     "output_type": "stream",
     "text": [
      "Male:\n",
      "n: 198 \n",
      "m_male: 507.5353535353535\n",
      "s_male: 103.54359175501496\n",
      "Female:\n",
      "n: 52 \n",
      "m_female: 472.0576923076923\n",
      "s_female: 97.07191865132042\n"
     ]
    }
   ],
   "source": [
    "males = rlanders[rlanders['Gender'] == \"Male\"]\n",
    "females = rlanders[rlanders['Gender'] == \"Female\"]\n",
    "\n",
    "m_male = males[\"Money\"].mean()\n",
    "s_male = males[\"Money\"].std()\n",
    "n_male = males[\"Money\"].count()\n",
    "print(f\"Male:\\nn: {n_male} \\nm_male: {m_male}\\ns_male: {s_male}\")\n",
    "m_female = females[\"Money\"].mean()\n",
    "s_female = females[\"Money\"].std()\n",
    "n_female = females[\"Money\"].count()\n",
    "print(f\"Female:\\nn: {n_female} \\nm_female: {m_female}\\ns_female: {s_female}\")"
   ]
  },
  {
   "cell_type": "code",
   "execution_count": 42,
   "metadata": {},
   "outputs": [
    {
     "data": {
      "text/plain": [
       "<matplotlib.lines.Line2D at 0x25842f760d0>"
      ]
     },
     "execution_count": 42,
     "metadata": {},
     "output_type": "execute_result"
    },
    {
     "data": {
      "image/png": "[encoded data removed]",
      "text/plain": [
       "<Figure size 432x288 with 1 Axes>"
      ]
     },
     "metadata": {
      "needs_background": "light"
     },
     "output_type": "display_data"
    }
   ],
   "source": [
    "sns.kdeplot(data=rlanders, x='Money', hue='Gender')\n",
    "plt.axvline(m, color='black')\n",
    "plt.axvline(x=m_male, color='lightblue')\n",
    "plt.axvline(x=m_female, color='orange')"
   ]
  },
  {
   "cell_type": "code",
   "execution_count": 44,
   "metadata": {},
   "outputs": [
    {
     "name": "stdout",
     "output_type": "stream",
     "text": [
      "p-value male: 0.13964\n",
      "p > a: do not reject H0\n",
      "p-value female: 0.98011\n",
      "p > a: do not reject H0\n"
     ]
    }
   ],
   "source": [
    "p_male = stats.norm.sf(m_male, loc=m, scale= s/math.sqrt(n_male))\n",
    "print(\"p-value male: %.5f\" % p_male)\n",
    "if(p_male < a):\n",
    "    print(\"p < a: reject H0\")\n",
    "else:\n",
    "    print(\"p > a: do not reject H0\")\n",
    "p_female = stats.norm.sf(m_female, loc=m, scale=s/math.sqrt(n_female))\n",
    "print(\"p-value female: %.5f\" % p_female)\n",
    "if(p_female < a):\n",
    "    print(\"p < a: reject H0\")\n",
    "else:\n",
    "    print(\"p > a: do not reject H0\")"
   ]
  },
  {
   "cell_type": "code",
   "execution_count": 45,
   "metadata": {},
   "outputs": [
    {
     "name": "stdout",
     "output_type": "stream",
     "text": [
      "Critical value g ≃ 511.456\n",
      "sample mean = 507.535 < g = 511.456: do not reject H0\n",
      "Critical value g ≃ 477.646\n",
      "sample mean = 472.058 < g = 477.646: do not reject H0\n"
     ]
    }
   ],
   "source": [
    "g_male = stats.norm.isf(a, loc = m, scale = s/math.sqrt(n_male)) \n",
    "print(\"Critical value g ≃ %.3f\" % g_male)\n",
    "if (m_male < g_male):\n",
    "    print(\"sample mean = %.3f < g = %.3f: do not reject H0\" % (m_male, g_male))\n",
    "else:\n",
    "    print(\"sample mean = %.3f > g = %.3f: reject H0\" % (m_male, g_male))\n",
    "\n",
    "g_female = stats.norm.isf(1-a, loc = m, scale = s/math.sqrt(n_female)) \n",
    "print(\"Critical value g ≃ %.3f\" % g_female)\n",
    "if (m_female < g_female):\n",
    "    print(\"sample mean = %.3f < g = %.3f: do not reject H0\" % (m_female, g_female))\n",
    "else:\n",
    "    print(\"sample mean = %.3f > g = %.3f: reject H0\" % (m_female, g_female))"
   ]
  },
  {
   "cell_type": "code",
   "execution_count": 46,
   "metadata": {},
   "outputs": [
    {
     "name": "stdout",
     "output_type": "stream",
     "text": [
      "acceptance region: [487.852, 512.148]\n"
     ]
    },
    {
     "data": {
      "text/plain": [
       "<matplotlib.lines.Line2D at 0x25840b832e0>"
      ]
     },
     "execution_count": 46,
     "metadata": {},
     "output_type": "execute_result"
    },
    {
     "data": {
      "image/png": "[encoded data removed]",
      "text/plain": [
       "<Figure size 432x288 with 1 Axes>"
      ]
     },
     "metadata": {
      "needs_background": "light"
     },
     "output_type": "display_data"
    }
   ],
   "source": [
    "n = len(rlanders)\n",
    "sn = s/ np.sqrt(n)\n",
    "g_lo = stats.norm.isf (1-a/2, loc = m, scale=sn)\n",
    "g_hi = stats.norm.isf (a/2, loc = m, scale=sn)\n",
    " \n",
    "print(f'acceptance region: [%.3f, %.3f]' % (g_lo, g_hi))\n",
    "\n",
    "x = np.linspace(m - 4 * sn, m + 4 * sn, num=201)\n",
    "sns.kdeplot(data=x)\n",
    "plt.axvline(m_sample, color=\"blue\")"
   ]
  },
  {
   "cell_type": "markdown",
   "metadata": {},
   "source": [
    "\n",
    "### Answers\n",
    "\n",
    "1. Sample mean: $\\overline{x} \\approx 507.535$, critical value: $g \\approx 511.456$, $p \\approx 0.1396$. We can **not** reject the null hypothesis. The gross annual income of men in this sample is not significantly higher than expected.\n",
    "2. Sample mean: $\\overline{x} \\approx 472.058$, critical value: $g \\approx 477.646$, $p \\approx 0.0199$. We can reject the null hypothesis. The gross annual income of women in this sample is significantly lower than expected.\n",
    "3. The acceptance region is the interval $[487.852, 512.148]$."
   ]
  }
 ],
 "metadata": {
  "interpreter": {
   "hash": "03bb4e7251c2d6188de95ca7833c5337872a881c74d4eb95ec0d0135d9398a41"
  },
  "kernelspec": {
   "display_name": "Python 3.9.7 64-bit",
   "language": "python",
   "name": "python3"
  },
  "language_info": {
   "codemirror_mode": {
    "name": "ipython",
    "version": 3
   },
   "file_extension": ".py",
   "mimetype": "text/x-python",
   "name": "python",
   "nbconvert_exporter": "python",
   "pygments_lexer": "ipython3",
   "version": "3.9.7"
  }
 },
 "nbformat": 4,
 "nbformat_minor": 2
}
