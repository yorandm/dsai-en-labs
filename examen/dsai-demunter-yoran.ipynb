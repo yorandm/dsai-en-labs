{
 "cells": [
  {
   "cell_type": "markdown",
   "metadata": {},
   "source": [
    "# Examen Data Science & AI\n",
    "\n",
    "- Student: **Yoran Demunter**\n",
    "- Studentennummer: **202075141**\n",
    "- Datum: **31 mei 2022**\n",
    "- Klasgroep: **PBA-TIN-TI/G2B4**\n"
   ]
  },
  {
   "cell_type": "code",
   "execution_count": 1,
   "metadata": {},
   "outputs": [],
   "source": [
    "# Package imports for data science\n",
    "import numpy as np\n",
    "import pandas as pd\n",
    "import scipy.stats as stats\n",
    "import matplotlib.pyplot as plt\n",
    "import seaborn as sns\n",
    "from statsmodels.graphics.mosaicplot import mosaic"
   ]
  },
  {
   "cell_type": "markdown",
   "metadata": {},
   "source": [
    "## Vraag 1\n",
    "\n",
    "1. (2 pt)\n",
    "Wat is het meetniveau van deze variabelen?\\\n",
    "(a) Het melkras van een koe (roodbont, Holstein, enz)\\\n",
    "(b) Het gewicht van een koe (in kg)\\\n",
    "(c) De jaarlijkse melkproductie van een koe (in l)\\\n",
    "(d) Levensfase van een koe (kalf, pink, vaars, koe)"
   ]
  },
  {
   "cell_type": "markdown",
   "metadata": {},
   "source": [
    "a. Nominaal  \n",
    "b. Ratio  \n",
    "c. Ratio  \n",
    "d. Ordinaal"
   ]
  },
  {
   "cell_type": "markdown",
   "metadata": {},
   "source": [
    "## Vraag 2\n",
    "\n",
    "2. (2 pt)  \n",
    "Je herinnert je vast nog de vaccinatiecampagne tijdens de COVID-19 pandemie: alle bur\u0002gers kregen de kans om zich te laten vaccineren, met ouderen en risico-patiënten eerst,\n",
    "en daarna volgens dalende leeftijd. Een nieuwszender wou in begin van deze campagne\n",
    "weten of de gemiddelde Vlaming tevreden was over de werking van het vaccinatiecentrum\n",
    "en vatte daartoe post aan de uitgang van verschillende vaccinatiecentra om 1000 respon\u0002denten te verzamelen.  \n",
    "  - (a) Is dit een aselecte steekproef? Motiveer je antwoord.  \n",
    "  - (b) Welk soort fout wordt hier gemaakt? Leg uit.\n"
   ]
  },
  {
   "cell_type": "markdown",
   "metadata": {},
   "source": [
    "- a. Neen geen aselecte steekproef. Enkel mensen die op dat moment gevaccineerd worden kunnen hierover antwoorden. Indien de steekproef bijvoorbeeld in het begin van de vaccinatiecampagne werd afgenomen zal enkel oudere en risico personen kunnen antwoorden. Jongeren zouden bijvoorbeeld kunnen ontevreden zijn dat ze zo lang moeten wachten maar gaan dit dus niet kunnen uiten in de steekproef. \n",
    "- b. Een systematische steekproef fout. Het is enkel een beperkt deel van de populatie (mensen die op dat moment gevaccineerd worden + enkel die die effectief enthousiast zijn om te antwoorden)"
   ]
  },
  {
   "cell_type": "markdown",
   "metadata": {},
   "source": [
    "# Vraag 3\n",
    "Beschouw volgende kansfunctie voor een toevalsveranderlijke X:\n",
    "\n",
    "|x | -3 | -2 | 2 | 3| \n",
    "|--|----|----|---|--|\n",
    "|fX(x) | 1/16 | z | 3/16 | 2/16| \n",
    "\n",
    "- (a) Bepaal z zodat we te maken hebben met een geldige kansfunctie.\n",
    "- (b) Geef µX (ook genoteerd als E(X))\n",
    "- (c) Bereken σX\n",
    "- (d) Bepaal P(X ≥ −2)\n"
   ]
  },
  {
   "cell_type": "code",
   "execution_count": 2,
   "metadata": {},
   "outputs": [
    {
     "name": "stdout",
     "output_type": "stream",
     "text": [
      "a= 0.625\n",
      "b = -0.688\n",
      "c= 2.113 \n",
      "d = 0.938\n"
     ]
    }
   ],
   "source": [
    "import math\n",
    "z = 10/16\n",
    "data = np.array([(-3/16),((-2*10)/16), 2*(3/16), 3*(2/16)])\n",
    "m = data.mean()\n",
    "s = data.std()\n",
    "\n",
    "Ex = (-3*1/16)+(-2*10/16)+(2*3/16)+(3*2/16)\n",
    "sigma = math.sqrt(((-3-Ex)**2)*(1/16)+((-2-Ex)**2)*(10/16)+((2-Ex)**2)*(3/16)+((3-Ex)**2)*(2/16))\n",
    "\n",
    "print('a= %.3f'% z)\n",
    "print('b = %.3f' %Ex)\n",
    "print(\"c= %.3f \" % sigma)\n",
    "print('d = %.3f'%(1-(1/16)))"
   ]
  },
  {
   "cell_type": "markdown",
   "metadata": {},
   "source": [
    "- (a.) z = $\\frac{10}{16}$ (decimaal: 0.625)\n",
    "- (b.) $\\mu_{x}$ = -0.688\n",
    "- (c.) $\\sigma_{x}$ = 2.113\n",
    "- (d.) P(X>=-2) = $\\frac{15}{16}$ (decimaal: 0.938)"
   ]
  },
  {
   "cell_type": "markdown",
   "metadata": {},
   "source": [
    "# Vraag 4\n",
    "4. (2 pt) Patiënten die herstellen van een beroerte laten hun grijpkracht in elke hand laten meten om\n",
    "hun vooruitgang te volgen. Een bepaalde populatie van meer dan 100 mannelijke patiënten\n",
    "hebben grijpkracht in hun dominante handen met een gemiddelde en standaardafwijking\n",
    "van respectievelijk ongeveer 41 kg en 9 kg.\n",
    "Stel dat we aselecte steekproeven nemen van 4 mannelijke patiënten uit deze populatie en\n",
    "berekenen het steekproefgemiddelde x van elke groep patiënten. Wat zal de vorm zijn van\n",
    "de kansverdeling van x?\n",
    "\n",
    "  - (a) Onbekend. We hebben niet genoeg informatie om de vorm te bepalen.\n",
    "  - (b) Scheef naar rechts.\n",
    "  - (c) Scheef naar links.\n",
    "  - (d) Benaderend normaal verdeeld."
   ]
  },
  {
   "cell_type": "code",
   "execution_count": 3,
   "metadata": {},
   "outputs": [
    {
     "data": {
      "text/plain": [
       "[<matplotlib.lines.Line2D at 0x299f1abcbe0>]"
      ]
     },
     "execution_count": 3,
     "metadata": {},
     "output_type": "execute_result"
    },
    {
     "data": {
      "image/png": "[encoded data removed]",
      "text/plain": [
       "<Figure size 432x288 with 1 Axes>"
      ]
     },
     "metadata": {
      "needs_background": "light"
     },
     "output_type": "display_data"
    }
   ],
   "source": [
    "m = 41\n",
    "s = 9\n",
    "n = 4\n",
    "dist_x = np.linspace(m - 4 * s, m + 4 * s, num=201)\n",
    "dist_y = stats.norm.pdf(dist_x, m, s)\n",
    "plt.plot(dist_x, dist_y)"
   ]
  },
  {
   "cell_type": "markdown",
   "metadata": {},
   "source": [
    "antwoord: (d). Benaderend normaal verdeeld"
   ]
  },
  {
   "cell_type": "markdown",
   "metadata": {},
   "source": [
    "# Vraag 5\n",
    "1. (2 pt) Uit een normaal verdeelde populatie werd de hieronder gegeven steekproef getrokken. Bereken een 95%-betrouwbaarheidsinterval voor het populatiegemiddelde\n",
    "   - sample = np.array([\n",
    "          5371, 5065, 5740, 5089, 4078, 4508, 4519, 4770, 5097, 4595, 5656,\n",
    "          4443, 5762, 5050, 4238, 3485, 5056, 5390, 4825, 4908, 4023, 5026,\n",
    "          3975, 4430, 5287\n",
    "          ]) \n",
    "   - (a) Ondergrens\n",
    "   - (b) Bovengrens\n"
   ]
  },
  {
   "cell_type": "code",
   "execution_count": 4,
   "metadata": {},
   "outputs": [
    {
     "name": "stdout",
     "output_type": "stream",
     "text": [
      "t-score: 2.06390\n",
      "Confidence interval: [4578.997, 5051.883]\n"
     ]
    }
   ],
   "source": [
    "sample = np.array([\n",
    "5371, 5065, 5740, 5089, 4078, 4508, 4519, 4770, 5097, 4595, 5656,\n",
    "4443, 5762, 5050, 4238, 3485, 5056, 5390, 4825, 4908, 4023, 5026,\n",
    "3975, 4430, 5287\n",
    "])\n",
    "\n",
    "# Step 1.\n",
    "m = sample.mean()      # Sample mean\n",
    "s = sample.std()      # Population standard deviation\n",
    "n = len(sample)     # Sample size\n",
    "alpha = .05  # 1 - alpha is the confidence level\n",
    "\n",
    "# Stap 2.\n",
    "t = stats.t.isf(alpha/2, df = n - 1)\n",
    "print(\"t-score: %.5f\" % t)\n",
    "\n",
    "# Stap 3.\n",
    "lo = m - t * s / np.sqrt(n)\n",
    "hi = m + t * s / np.sqrt(n)\n",
    "print(\"Confidence interval: [%.3f, %.3f]\" % (lo, hi))"
   ]
  },
  {
   "cell_type": "markdown",
   "metadata": {},
   "source": [
    "   - (a) Ondergrens: 4578.997\n",
    "   - (b) Bovengrens: 5051.883"
   ]
  },
  {
   "cell_type": "markdown",
   "metadata": {},
   "source": [
    "# Vraag 6\n",
    "6.  (6 pt)\n",
    "De steekproef die hieronder gegeven is, bevat gerelateerde meetresultaten van een vari\u0002abele Count op twee tijdstippen (time1 en time2), telkens op een overeenkomstige plaats.\n",
    "We willen weten of de metingen op het eerste tijdstip significant verschillend zijn van die op\n",
    "het tweede tijdstip.\n",
    "Gebruik een geschikte statistische toets (met significantieniveau 5%) om deze uitspraak te\n",
    "verifiëren.\n",
    "> my_sample = pd.DataFrame(data={\n",
    "'time1':\n",
    "[267, 252, 170, 275, 210, 179, 186, 198, 198, 249, 206, 221, 177, 161,\n",
    "251, 187, 199, 157, 184, 191, 133, 199, 187, 202, 196, 169,\n",
    "213, 287, 213, 172],\n",
    "'time2':\n",
    "[163, 227, 213, 248, 188, 187, 178, 218, 179, 276, 279, 183, 200, 219,\n",
    "132, 145, 258, 153, 197, 240, 214, 124, 203, 189, 195, 216,\n",
    "235, 167, 188, 138]\n",
    "})\n",
    "\n",
    "  - (a) Welke toets moet je gebruiken om deze onderzoeksvraag te beantwoorden? Wees zo specifiek mogelijk!\n",
    "  - (b) Formuleer de nulhypothese en de alternatieve hypothese\n",
    "  - (c) Bereken de p-waarde\n",
    "  - (d) Trek een besluit op basis van de vorige stap en beantwoord de onderzoeksvraag.\n",
    "  - (e) Geef de mediaan voor de groep time1\n",
    "  - (f) Geef het bereik voor de groep time1"
   ]
  },
  {
   "cell_type": "code",
   "execution_count": 5,
   "metadata": {},
   "outputs": [
    {
     "name": "stdout",
     "output_type": "stream",
     "text": [
      "p 0.637\n",
      "mediaan 1: 198.000\n",
      "bereik 1: 154.000\n"
     ]
    }
   ],
   "source": [
    "\n",
    "my_sample = pd.DataFrame(data={\n",
    "'time1':\n",
    "[267, 252, 170, 275, 210, 179, 186, 198, 198, 249, 206, 221, 177, 161,\n",
    "251, 187, 199, 157, 184, 191, 133, 199, 187, 202, 196, 169,\n",
    "213, 287, 213, 172],\n",
    "'time2':\n",
    "[163, 227, 213, 248, 188, 187, 178, 218, 179, 276, 279, 183, 200, 219,\n",
    "132, 145, 258, 153, 197, 240, 214, 124, 203, 189, 195, 216,\n",
    "235, 167, 188, 138]\n",
    "})\n",
    "\n",
    "time1 = np.array(my_sample['time1'])\n",
    "time2 = np.array(my_sample['time2'])\n",
    "s,p = stats.ttest_rel(time1, time2, alternative='two-sided')\n",
    "print('p %.3f'% p)\n",
    "print('mediaan 1: %.3f'%np.median(time1))\n",
    "print('bereik 1: %.3f'% (my_sample['time1'].max()-my_sample['time1'].min()))"
   ]
  },
  {
   "cell_type": "markdown",
   "metadata": {},
   "source": [
    "  - (a) two-sample t-test voor paired samples. (gerelateerde meetresultaten)\n",
    "  - (b) Hyptoheses:\n",
    "    - $H_{0}$: metingen op 2de tijdstip niet significant verschillend dan die op het 1ste tijdstip\n",
    "    - $H_{1}$: De metingen op het 2de tijdstip zijn significant verschillend\n",
    "  - (c) p-waarde= 0.637\n",
    "  - (d) p>= $\\alpha$ (0.05) De $H_{0}$ kan niet verworpen worden. Er is onvoldoende bewijs dat de resultaten significant verschillend zijn van elkaar.\n",
    "  - (e) Mediaan time1 : 198\n",
    "  - (f) Bereik 1: 154"
   ]
  },
  {
   "cell_type": "markdown",
   "metadata": {},
   "source": [
    "# Vraag 7\n",
    "7. (4 pt)\n",
    "Een marketing-bureau wil via een enquête te weten komen of mensen een voorkeur hebben\n",
    "voor het meest dystopische bedrijf. Hieronder zijn de resultaten te vinden.\n",
    "Komt elke keuze ongeveer evenveel voor, of komt er uit de resultaten een duidelijke voor\u0002keur naar voor? Gebruik een geschikte statistische toets (met significantieniveau 5%) om\n",
    "dit te onderzoeken.\n",
    "  - (a) Welke toets moet je gebruiken om deze onderzoeksvraag te beantwoorden? Wees zo specifiek mogelijk!\n",
    "  - (b) Bereken de p-waarde\n",
    "  - (c) Trek een besluit op basis van de vorige stap en beantwoord de onderzoeksvraag.\n",
    "  - (d) Geef het gestandaardiseerde residu voor variabele Dharma.\n",
    "  - (e) Kan je daaruit besluiten dat de waarde voor Dharma extreem over- of onderverte\u0002genwoordigd zijn in de steekproef? Antwoord met een van volgende mogelijkheden (oververtegenwoordigd/ondervertegenwoordig/niet extreem).\n"
   ]
  },
  {
   "cell_type": "code",
   "execution_count": 6,
   "metadata": {},
   "outputs": [
    {
     "name": "stdout",
     "output_type": "stream",
     "text": [
      "Significance level  ⍺ = 0.05\n",
      "Sample size         n = 60\n",
      "k = 5; df = 4\n",
      "Chi-squared        χ² = 13.500\n",
      "Critical value      g = 9.488\n",
      "p-value             p = 0.009\n"
     ]
    }
   ],
   "source": [
    "df = pd.DataFrame(data={'Preference': [\n",
    "\"Dharma\", \"Dharma\", \"LexCorp\", \"Cyberdyne\", \"Dharma\", \"Umbrella\",\n",
    "\"Umbrella\", \"LexCorp\", \"Umbrella\", \"Umbrella\", \"Tyrell\",\n",
    "\"Umbrella\", \"Umbrella\", \"Tyrell\", \"Umbrella\", \"Dharma\", \"LexCorp\",\n",
    "\"Tyrell\", \"Umbrella\", \"Umbrella\", \"Umbrella\", \"Umbrella\", \"Tyrell\",\n",
    "\"Tyrell\", \"Umbrella\", \"Umbrella\", \"LexCorp\", \"Umbrella\", \"Dharma\",\n",
    "\"Cyberdyne\", \"LexCorp\", \"Tyrell\", \"Cyberdyne\", \"Dharma\", \"Dharma\",\"Umbrella\", \"Umbrella\", \"LexCorp\", \"Dharma\", \"Umbrella\",\n",
    "\"Umbrella\", \"Cyberdyne\", \"Cyberdyne\", \"Umbrella\", \"Cyberdyne\",\n",
    "\"Umbrella\", \"LexCorp\", \"Tyrell\", \"LexCorp\", \"Cyberdyne\",\n",
    "\"Umbrella\", \"Tyrell\", \"Cyberdyne\", \"Dharma\", \"Umbrella\", \"Tyrell\",\n",
    "\"Dharma\", \"Umbrella\", \"Dharma\", \"Dharma\"\n",
    "]})\n",
    "observed = df[\"Preference\"].value_counts()\n",
    "expected_p = np.array([1/5,1/5,1/5,1/5,1/5])\n",
    "alpha = 0.05               # Significance level\n",
    "n = sum(observed)          # Sample size\n",
    "k = len(observed)          # Number of categories\n",
    "dof = k - 1                # Degrees of freedom\n",
    "expected = expected_p * n  # Expected absolute frequencies in the sample\n",
    "g = stats.chi2.isf(alpha, df=dof)  # Critical value\n",
    "\n",
    "# Goodness-of-fit-test in Python:\n",
    "chi2, p = stats.chisquare(f_obs=observed, f_exp=expected)\n",
    "\n",
    "print(\"Significance level  ⍺ = %.2f\" % alpha)\n",
    "print(\"Sample size         n = %d\" % n)\n",
    "print(\"k = %d; df = %d\" % (k, dof))\n",
    "print(\"Chi-squared        χ² = %.3f\" % chi2)\n",
    "print(\"Critical value      g = %.3f\" % g)\n",
    "print(\"p-value             p = %.3f\" % p)"
   ]
  },
  {
   "cell_type": "code",
   "execution_count": 7,
   "metadata": {},
   "outputs": [
    {
     "name": "stdout",
     "output_type": "stream",
     "text": [
      "Significance level  ⍺ = 0.05\n",
      "Sample size         n = 35\n",
      "k = 2; df = 1\n",
      "Chi-squared        χ² = 3.457\n",
      "Critical value      g = 3.841\n",
      "p-value             p = 0.063\n"
     ]
    }
   ],
   "source": [
    "df = pd.DataFrame(data={'Preference': [\n",
    "\"Dharma\", \"Dharma\", \"LexCorp\", \"Cyberdyne\", \"Dharma\", \"Umbrella\",\n",
    "\"Umbrella\", \"LexCorp\", \"Umbrella\", \"Umbrella\", \"Tyrell\",\n",
    "\"Umbrella\", \"Umbrella\", \"Tyrell\", \"Umbrella\", \"Dharma\", \"LexCorp\",\n",
    "\"Tyrell\", \"Umbrella\", \"Umbrella\", \"Umbrella\", \"Umbrella\", \"Tyrell\",\n",
    "\"Tyrell\", \"Umbrella\", \"Umbrella\", \"LexCorp\", \"Umbrella\", \"Dharma\",\n",
    "\"Cyberdyne\", \"LexCorp\", \"Tyrell\", \"Cyberdyne\", \"Dharma\", \"Dharma\",\"Umbrella\", \"Umbrella\", \"LexCorp\", \"Dharma\", \"Umbrella\",\n",
    "\"Umbrella\", \"Cyberdyne\", \"Cyberdyne\", \"Umbrella\", \"Cyberdyne\",\n",
    "\"Umbrella\", \"LexCorp\", \"Tyrell\", \"LexCorp\", \"Cyberdyne\",\n",
    "\"Umbrella\", \"Tyrell\", \"Cyberdyne\", \"Dharma\", \"Umbrella\", \"Tyrell\",\n",
    "\"Dharma\", \"Umbrella\", \"Dharma\", \"Dharma\"\n",
    "]})\n",
    "observed = df.Preference[(df[\"Preference\"]==\"Umbrella\" )| (df[\"Preference\"]==\"Dharma\")].value_counts()\n",
    "\n",
    "expected_p = np.array([1/2,1/2])\n",
    "alpha = 0.05               # Significance level\n",
    "n = sum(observed)          # Sample size\n",
    "k = len(observed)          # Number of categories\n",
    "dof = k - 1                # Degrees of freedom\n",
    "expected = expected_p * n  # Expected absolute frequencies in the sample\n",
    "g = stats.chi2.isf(alpha, df=dof)  # Critical value\n",
    "\n",
    "# Goodness-of-fit-test in Python:\n",
    "chi2, p = stats.chisquare(f_obs=observed, f_exp=expected)\n",
    "\n",
    "print(\"Significance level  ⍺ = %.2f\" % alpha)\n",
    "print(\"Sample size         n = %d\" % n)\n",
    "print(\"k = %d; df = %d\" % (k, dof))\n",
    "print(\"Chi-squared        χ² = %.3f\" % chi2)\n",
    "print(\"Critical value      g = %.3f\" % g)\n",
    "print(\"p-value             p = %.3f\" % p)\n"
   ]
  },
  {
   "cell_type": "code",
   "execution_count": 8,
   "metadata": {},
   "outputs": [
    {
     "name": "stdout",
     "output_type": "stream",
     "text": [
      "Chi-squared   χ² = 13.5000\n",
      "Critical value g = 13.2767\n",
      "p-value        p = 0.009074\n"
     ]
    },
    {
     "data": {
      "text/html": [
       "<div>\n",
       "<style scoped>\n",
       "    .dataframe tbody tr th:only-of-type {\n",
       "        vertical-align: middle;\n",
       "    }\n",
       "\n",
       "    .dataframe tbody tr th {\n",
       "        vertical-align: top;\n",
       "    }\n",
       "\n",
       "    .dataframe thead th {\n",
       "        text-align: right;\n",
       "    }\n",
       "</style>\n",
       "<table border=\"1\" class=\"dataframe\">\n",
       "  <thead>\n",
       "    <tr style=\"text-align: right;\">\n",
       "      <th></th>\n",
       "      <th>product</th>\n",
       "      <th>observed</th>\n",
       "      <th>expected_p</th>\n",
       "      <th>expected</th>\n",
       "      <th>stdres</th>\n",
       "    </tr>\n",
       "  </thead>\n",
       "  <tbody>\n",
       "    <tr>\n",
       "      <th>0</th>\n",
       "      <td>Cyberdyne</td>\n",
       "      <td>23</td>\n",
       "      <td>0.2</td>\n",
       "      <td>12.0</td>\n",
       "      <td>3.550235</td>\n",
       "    </tr>\n",
       "    <tr>\n",
       "      <th>1</th>\n",
       "      <td>Dharma</td>\n",
       "      <td>12</td>\n",
       "      <td>0.2</td>\n",
       "      <td>12.0</td>\n",
       "      <td>0.000000</td>\n",
       "    </tr>\n",
       "    <tr>\n",
       "      <th>2</th>\n",
       "      <td>LexCorp</td>\n",
       "      <td>9</td>\n",
       "      <td>0.2</td>\n",
       "      <td>12.0</td>\n",
       "      <td>-0.968246</td>\n",
       "    </tr>\n",
       "    <tr>\n",
       "      <th>3</th>\n",
       "      <td>Tyrell</td>\n",
       "      <td>8</td>\n",
       "      <td>0.2</td>\n",
       "      <td>12.0</td>\n",
       "      <td>-1.290994</td>\n",
       "    </tr>\n",
       "    <tr>\n",
       "      <th>4</th>\n",
       "      <td>Umbrella</td>\n",
       "      <td>8</td>\n",
       "      <td>0.2</td>\n",
       "      <td>12.0</td>\n",
       "      <td>-1.290994</td>\n",
       "    </tr>\n",
       "  </tbody>\n",
       "</table>\n",
       "</div>"
      ],
      "text/plain": [
       "     product  observed  expected_p  expected    stdres\n",
       "0  Cyberdyne        23         0.2      12.0  3.550235\n",
       "1     Dharma        12         0.2      12.0  0.000000\n",
       "2    LexCorp         9         0.2      12.0 -0.968246\n",
       "3     Tyrell         8         0.2      12.0 -1.290994\n",
       "4   Umbrella         8         0.2      12.0 -1.290994"
      ]
     },
     "execution_count": 8,
     "metadata": {},
     "output_type": "execute_result"
    }
   ],
   "source": [
    "df = pd.DataFrame(data={'Preference': [\n",
    "\"Dharma\", \"Dharma\", \"LexCorp\", \"Cyberdyne\", \"Dharma\", \"Umbrella\",\n",
    "\"Umbrella\", \"LexCorp\", \"Umbrella\", \"Umbrella\", \"Tyrell\",\n",
    "\"Umbrella\", \"Umbrella\", \"Tyrell\", \"Umbrella\", \"Dharma\", \"LexCorp\",\n",
    "\"Tyrell\", \"Umbrella\", \"Umbrella\", \"Umbrella\", \"Umbrella\", \"Tyrell\",\n",
    "\"Tyrell\", \"Umbrella\", \"Umbrella\", \"LexCorp\", \"Umbrella\", \"Dharma\",\n",
    "\"Cyberdyne\", \"LexCorp\", \"Tyrell\", \"Cyberdyne\", \"Dharma\", \"Dharma\",\"Umbrella\", \"Umbrella\", \"LexCorp\", \"Dharma\", \"Umbrella\",\n",
    "\"Umbrella\", \"Cyberdyne\", \"Cyberdyne\", \"Umbrella\", \"Cyberdyne\",\n",
    "\"Umbrella\", \"LexCorp\", \"Tyrell\", \"LexCorp\", \"Cyberdyne\",\n",
    "\"Umbrella\", \"Tyrell\", \"Cyberdyne\", \"Dharma\", \"Umbrella\", \"Tyrell\",\n",
    "\"Dharma\", \"Umbrella\", \"Dharma\", \"Dharma\"\n",
    "]})\n",
    "df['Preference'] = df['Preference'].astype('category')\n",
    "observed = df[\"Preference\"].value_counts()\n",
    "expected_p = np.array([1/5,1/5,1/5,1/5,1/5])\n",
    "\n",
    "d = pd.DataFrame(data= np.array(pd.Categorical(df['Preference']).categories), columns=['product'])\n",
    "np.array(observed)\n",
    "d['observed'] =np.array(observed)\n",
    "n = observed.sum() \n",
    "d['expected_p'] = expected_p\n",
    "\n",
    "d['expected'] = expected_p * n\n",
    "\n",
    "\n",
    "alpha=0.01                         # significance level\n",
    "dof=len(observed)-1                # degrees of freedom\n",
    "g = stats.chi2.isf(alpha, df=dof)  # Critical value\n",
    "# Perform Chi-squared test, calculate χ² and p\n",
    "chi2, p = stats.chisquare(f_obs=d.observed, f_exp=d.expected)\n",
    "\n",
    "print(\"Chi-squared   χ² = %.4f\" % chi2)\n",
    "print(\"Critical value g = %.4f\" % g)\n",
    "print(\"p-value        p = %f\"   % p)\n",
    "d['stdres'] = (d.observed - d.expected) / np.sqrt(d.expected * (1 - d.expected_p))\n",
    "d"
   ]
  },
  {
   "cell_type": "markdown",
   "metadata": {},
   "source": [
    "  - (a) $\\chi^2$ goodness-of-fit test\n",
    "  - (b) p-waarde: 0.009\n",
    "  - (c) p<$\\alpha$ dus de $H_{0}$ kan verworpen worden. Er is dus een voorkeur voor bepaalde producten. Uit de test voor de twee populairste producten blijkt dat daarvoor p>=$\\alpha$ dus er is niet voldoende bewijs om die $H_{0}$ te verwerpen\n",
    "  - (d) Geef het gestandaardiseerde residu voor variabele Dharma. ri = 0.000\n",
    "  - (e) Kan je daaruit besluiten dat de waarde voor Dharma extreem over- of onderverte\u0002genwoordigd zijn in de steekproef? niet extreem"
   ]
  },
  {
   "cell_type": "markdown",
   "metadata": {},
   "source": [
    "# Vraag 8\n",
    "8. (6 pt)\n",
    "Beschouw de steekproef die hieronder gegeven is\n",
    "- (a) Bereken de richtingscoëfficiënt van de regressierechte\n",
    "- (b) Bereken het snijpunt van de regressierechte met de y-as\n",
    "- (c) Bereken de correlatiecoëfficiënt (symbool + waarde)\n",
    "- (d) Geef een interpretatie voor de waarde van de correlatiecoëfficiënt\n",
    "- (e) Bereken de determinatiecoëfficiënt (symbool + waarde)\n",
    "- (f) Geef een interpretatie voor de waarde van de determinatiecoëfficiënt"
   ]
  },
  {
   "cell_type": "code",
   "execution_count": 9,
   "metadata": {},
   "outputs": [
    {
     "data": {
      "text/plain": [
       "<AxesSubplot:xlabel='x', ylabel='y'>"
      ]
     },
     "execution_count": 9,
     "metadata": {},
     "output_type": "execute_result"
    },
    {
     "data": {
      "image/png": "[encoded data removed]",
      "text/plain": [
       "<Figure size 432x288 with 1 Axes>"
      ]
     },
     "metadata": {
      "needs_background": "light"
     },
     "output_type": "display_data"
    }
   ],
   "source": [
    "sample_data = pd.DataFrame(data = {\n",
    "'x': [450, 507, 510, 553, 535, 601, 564, 550, 432, 527, 429, 482, 508,\n",
    "542, 440, 502, 441, 431, 543, 518, 391, 459, 483, 499,\n",
    "433, 539, 488, 592, 524, 514, 512, 483, 438, 522, 574,\n",
    "507, 437, 438, 627, 482, 578, 520, 500, 556, 547, 509,\n",
    "501, 524, 380, 479, 579, 510, 545, 495, 439, 501, 543,\n",
    "523, 605, 441, 554, 452, 481, 547, 398, 527, 546, 474,\n",
    "470, 569, 500, 568, 511, 450, 419, 500, 517, 583, 475,\n",
    "440],\n",
    "'y': [491, 493, 493, 481, 482, 469, 469, 476, 498, 493, 508, 489, 487,\n",
    "485, 504, 495, 501, 498, 489, 475, 503, 501, 495, 498,\n",
    "506, 484, 485, 465, 483, 493, 488, 491, 497, 481, 485,\n",
    "492, 498, 498, 471, 489, 477, 482, 494, 480, 477, 493,\n",
    "491, 483, 511, 497, 471, 486, 483, 495, 500, 484, 479,\n",
    "486, 468, 503, 482, 500, 488, 473, 513, 492, 479, 504,\n",
    "494, 478, 490, 482, 486, 495, 499, 490, 483, 476, 495,\n",
    "508]})\n",
    "sns.regplot(x=sample_data[\"x\"], y=sample_data[\"y\"])"
   ]
  },
  {
   "cell_type": "code",
   "execution_count": 10,
   "metadata": {},
   "outputs": [
    {
     "name": "stdout",
     "output_type": "stream",
     "text": [
      "covariantie = -508.38892405063297\n",
      "a  rico: -0.181 \n",
      "b snijpunt y as = 580.174\n",
      "c R=-0.901\n",
      "d zie commentaar boven de print lijn\n",
      "e R²= 0.811\n",
      "f\n"
     ]
    }
   ],
   "source": [
    "from sklearn.linear_model import LinearRegression\n",
    "\n",
    "xje = sample_data.x.values.reshape(-1,1)\n",
    "yje = sample_data.y\n",
    "\n",
    "weight_model = LinearRegression().fit(xje, yje)\n",
    "#covariatie(niet gevraagd)\n",
    "cov = np.cov(sample_data.x, sample_data.y, ddof=1)[0][1]\n",
    "print(f\"covariantie = {cov}\")\n",
    "\n",
    "#interpretatie van covariantie (niet gevraagd)\n",
    "# cov>0 => stijgend verband (is het enige da je er kan uit halen)\n",
    "# (cov<0 => dalend )\n",
    "\n",
    "print(f\"a  rico: {weight_model.coef_[0]:.3f} \")\n",
    "print(f\"b snijpunt y as = {weight_model.intercept_:.3f}\")\n",
    "#correlatie\n",
    "cor = np.corrcoef(sample_data.x, sample_data.y)[0][1]\n",
    "print(f\"c R={cor:.3f}\")\n",
    "#interpretatie correlatie\n",
    "# teken is pos=> stijgend verband \n",
    "# R dicht bij nul dus zeer zwak verband\n",
    "\n",
    "print(f'd zie commentaar boven de print lijn')\n",
    "#determinatiecoef\n",
    "\n",
    "print(f\"e R²= {cor**2:.3f}\")\n",
    "#f\n",
    "#interpretatie van\n",
    "# grootte R²= ong nul dus zeer zwak verbanden\n",
    "# verklaring vna de variantie\n",
    "print(f\"f\")"
   ]
  },
  {
   "cell_type": "markdown",
   "metadata": {},
   "source": [
    "- (a) richtingscoëfficiënt: -0.181\n",
    "- (b) snijpunt van de regressierechte met de y-as: 580.17\n",
    "- (c) Bereken de correlatiecoëfficiënt (symbool + waarde) R = -0.901\n",
    "- (d) Het teken is negatief dus het is een dalend verband. En |R| is tussen 0.85 en 0.95 dus het is een zeer sterk verband\n",
    "- (e) Bereken de determinatiecoëfficiënt (symbool + waarde):  R² = 0.811\n",
    "- (f) Geef een interpretatie voor de waarde van de determinatiecoëfficiënt Tussen 0.75 en 0.9 dus een heel sterk verband"
   ]
  },
  {
   "cell_type": "markdown",
   "metadata": {},
   "source": [
    "# Vraag 9\n",
    "9. (2 pt)\n",
    "In Figuur 1 vind je een grafiek van een tijdserie (in het zwart) met twee vormen van voort\u0002schrijdend gemiddelde in kleur getoond.\n",
    "Wat zijn de lijnen A en B precies? Kies uit de mogelijkheden hieronder:\n",
    "- Eenvoudig voortschrijdend gemiddelde met periode 10\n",
    "- Eenvoudig voortschrijdend gemiddelde met periode 15\n",
    "- Eenvoudig voortschrijdend gemiddelde met periode 20\n",
    "- Enkelvoudige exponentiële afvlakking met α = 0.2\n",
    "- Enkelvoudige exponentiële afvlakking met α = 0.8\n",
    "\n",
    "## Antwoord\n",
    "- (a) Lijn A: Enkelvoudige exponentiële afvlakking met $\\alpha$ = 0.2\n",
    "- (b) Lijn B: Enkelvoudige exponentiële afvlakking met $\\alpha$ = 0.8\n"
   ]
  }
 ],
 "metadata": {
  "interpreter": {
   "hash": "03bb4e7251c2d6188de95ca7833c5337872a881c74d4eb95ec0d0135d9398a41"
  },
  "kernelspec": {
   "display_name": "Python 3.9.7 64-bit",
   "language": "python",
   "name": "python3"
  },
  "language_info": {
   "codemirror_mode": {
    "name": "ipython",
    "version": 3
   },
   "file_extension": ".py",
   "mimetype": "text/x-python",
   "name": "python",
   "nbconvert_exporter": "python",
   "pygments_lexer": "ipython3",
   "version": "3.9.7"
  },
  "orig_nbformat": 4
 },
 "nbformat": 4,
 "nbformat_minor": 2
}
